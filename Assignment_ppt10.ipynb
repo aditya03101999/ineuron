{
 "cells": [
  {
   "cell_type": "code",
   "execution_count": 1,
   "id": "d474eb37",
   "metadata": {},
   "outputs": [],
   "source": [
    "def isPowerOfThree(n):\n",
    "    if n <= 0:\n",
    "        return False\n",
    "\n",
    "    while n % 3 == 0:\n",
    "        n //= 3\n",
    "\n",
    "    return n == 1\n"
   ]
  },
  {
   "cell_type": "code",
   "execution_count": 2,
   "id": "dbb99f69",
   "metadata": {},
   "outputs": [
    {
     "name": "stdout",
     "output_type": "stream",
     "text": [
      "True\n",
      "False\n"
     ]
    }
   ],
   "source": [
    "print(isPowerOfThree(27)) \n",
    "print(isPowerOfThree(0))   \n"
   ]
  },
  {
   "cell_type": "code",
   "execution_count": 3,
   "id": "29e93c3b",
   "metadata": {},
   "outputs": [],
   "source": [
    "def lastRemaining(n):\n",
    "    left_to_right = True\n",
    "    remaining = n\n",
    "    step = 1\n",
    "    start = 1\n",
    "\n",
    "    while remaining > 1:\n",
    "        if left_to_right or remaining % 2 == 1:\n",
    "            start += step\n",
    "\n",
    "        remaining //= 2\n",
    "        step *= 2\n",
    "        left_to_right = not left_to_right\n",
    "\n",
    "    return start\n",
    "\n"
   ]
  },
  {
   "cell_type": "code",
   "execution_count": 4,
   "id": "59cb76aa",
   "metadata": {},
   "outputs": [
    {
     "name": "stdout",
     "output_type": "stream",
     "text": [
      "6\n"
     ]
    }
   ],
   "source": [
    "print(lastRemaining(9))\n"
   ]
  },
  {
   "cell_type": "code",
   "execution_count": 5,
   "id": "b0c401bd",
   "metadata": {},
   "outputs": [],
   "source": [
    "def calculateLength(string):\n",
    "    if string == \"\":\n",
    "        return 0\n",
    "    else:\n",
    "        return 1 + calculateLength(string[1:])\n"
   ]
  },
  {
   "cell_type": "code",
   "execution_count": 6,
   "id": "b5a8d988",
   "metadata": {},
   "outputs": [
    {
     "name": "stdout",
     "output_type": "stream",
     "text": [
      "5\n",
      "5\n",
      "0\n"
     ]
    }
   ],
   "source": [
    "print(calculateLength(\"Hello\"))  \n",
    "print(calculateLength(\"abcde\")) \n",
    "print(calculateLength(\"\"))       \n"
   ]
  },
  {
   "cell_type": "code",
   "execution_count": 7,
   "id": "68d63e27",
   "metadata": {},
   "outputs": [],
   "source": [
    "def countContiguousSubstrings(S):\n",
    "    count = 0\n",
    "    for i in range(len(S)):\n",
    "        j = i\n",
    "        while j < len(S):\n",
    "            if S[i] == S[j]:\n",
    "                count += 1\n",
    "            else:\n",
    "                break\n",
    "            j += 1\n",
    "    return count\n"
   ]
  },
  {
   "cell_type": "code",
   "execution_count": 8,
   "id": "c32687ee",
   "metadata": {},
   "outputs": [
    {
     "name": "stdout",
     "output_type": "stream",
     "text": [
      "5\n",
      "3\n"
     ]
    }
   ],
   "source": [
    "print(countContiguousSubstrings(\"abcab\"))  \n",
    "print(countContiguousSubstrings(\"aba\"))    \n"
   ]
  },
  {
   "cell_type": "code",
   "execution_count": 9,
   "id": "99fcba8d",
   "metadata": {},
   "outputs": [],
   "source": [
    "def towerOfHanoi(N, source, destination, auxiliary):\n",
    "    if N == 1:\n",
    "        print(\"move disk 1 from rod\", source, \"to rod\", destination)\n",
    "        return 1\n",
    "\n",
    "    moves = 0\n",
    "\n",
    "    moves += towerOfHanoi(N - 1, source, auxiliary, destination)\n",
    "    print(\"move disk\", N, \"from rod\", source, \"to rod\", destination)\n",
    "    moves += 1\n",
    "    moves += towerOfHanoi(N - 1, auxiliary, destination, source)\n",
    "\n",
    "    return moves\n"
   ]
  },
  {
   "cell_type": "code",
   "execution_count": 10,
   "id": "ee7d3c10",
   "metadata": {},
   "outputs": [
    {
     "name": "stdout",
     "output_type": "stream",
     "text": [
      "move disk 1 from rod 1 to rod 2\n",
      "move disk 2 from rod 1 to rod 3\n",
      "move disk 1 from rod 2 to rod 3\n",
      "Total moves: 3\n"
     ]
    }
   ],
   "source": [
    "N = 2\n",
    "total_moves = towerOfHanoi(N, 1, 3, 2)\n",
    "print(\"Total moves:\", total_moves)\n"
   ]
  },
  {
   "cell_type": "code",
   "execution_count": 11,
   "id": "260a8a57",
   "metadata": {},
   "outputs": [],
   "source": [
    "def permuteString(str):\n",
    "    permutations = []\n",
    "    permuteStringRecursive(str, \"\", permutations)\n",
    "    return permutations\n",
    "\n",
    "\n",
    "def permuteStringRecursive(str, current_permutation, permutations):\n",
    "    if len(str) == 0:\n",
    "        permutations.append(current_permutation)\n",
    "        return\n",
    "\n",
    "    for i in range(len(str)):\n",
    "        # Fix one character at a time\n",
    "        fixed_char = str[i]\n",
    "\n",
    "        # Generate permutations for the remaining characters\n",
    "        remaining_chars = str[:i] + str[i+1:]\n",
    "        permuteStringRecursive(remaining_chars, current_permutation + fixed_char, permutations)\n"
   ]
  },
  {
   "cell_type": "code",
   "execution_count": 12,
   "id": "971f91dc",
   "metadata": {},
   "outputs": [
    {
     "name": "stdout",
     "output_type": "stream",
     "text": [
      "['cd', 'dc']\n",
      "['abb', 'abb', 'bab', 'bba', 'bab', 'bba']\n"
     ]
    }
   ],
   "source": [
    "print(permuteString(\"cd\"))\n",
    "\n",
    "print(permuteString(\"abb\"))\n",
    "\n"
   ]
  },
  {
   "cell_type": "code",
   "execution_count": 13,
   "id": "4546a539",
   "metadata": {},
   "outputs": [],
   "source": [
    "def countConsonants(string):\n",
    "    consonant_count = 0\n",
    "    vowels = \"aeiou\"\n",
    "\n",
    "    for char in string.lower():\n",
    "        if char.isalpha() and char not in vowels:\n",
    "            consonant_count += 1\n",
    "\n",
    "    return consonant_count\n"
   ]
  },
  {
   "cell_type": "code",
   "execution_count": 14,
   "id": "b9cf6c8a",
   "metadata": {},
   "outputs": [
    {
     "name": "stdout",
     "output_type": "stream",
     "text": [
      "3\n",
      "2\n",
      "6\n"
     ]
    }
   ],
   "source": [
    "print(countConsonants(\"Hello\"))     \n",
    "print(countConsonants(\"OpenAI\"))     \n",
    "print(countConsonants(\"Consonant\")) \n"
   ]
  },
  {
   "cell_type": "code",
   "execution_count": null,
   "id": "9f3435bc",
   "metadata": {},
   "outputs": [],
   "source": []
  }
 ],
 "metadata": {
  "kernelspec": {
   "display_name": "Python 3 (ipykernel)",
   "language": "python",
   "name": "python3"
  },
  "language_info": {
   "codemirror_mode": {
    "name": "ipython",
    "version": 3
   },
   "file_extension": ".py",
   "mimetype": "text/x-python",
   "name": "python",
   "nbconvert_exporter": "python",
   "pygments_lexer": "ipython3",
   "version": "3.9.12"
  }
 },
 "nbformat": 4,
 "nbformat_minor": 5
}
