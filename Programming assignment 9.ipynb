{
 "cells": [
  {
   "cell_type": "code",
   "execution_count": 15,
   "id": "40a28940",
   "metadata": {},
   "outputs": [
    {
     "data": {
      "text/plain": [
       "('yes', 89)"
      ]
     },
     "execution_count": 15,
     "metadata": {},
     "output_type": "execute_result"
    }
   ],
   "source": [
    "#1. Write a Python program to check if the given number is a Disarium Number?\n",
    "def disarium(num):\n",
    "    num = str(num)\n",
    "    k = 0\n",
    "    for i in range(len(num)):\n",
    "        k += int(num[i])**(i+1)\n",
    "    if k == int(num):\n",
    "        result = 'yes'\n",
    "    else :\n",
    "        result = 'no'\n",
    "    return result , k   \n",
    "\n",
    "disarium(89)"
   ]
  },
  {
   "cell_type": "code",
   "execution_count": 17,
   "id": "060e5328",
   "metadata": {},
   "outputs": [
    {
     "data": {
      "text/plain": [
       "[1, 2, 3, 4, 5, 6, 7, 8, 9, 89]"
      ]
     },
     "execution_count": 17,
     "metadata": {},
     "output_type": "execute_result"
    }
   ],
   "source": [
    "#2. Write a Python program to print all disarium numbers between 1 to 100?\n",
    "def disariumNumber(start,end):\n",
    "    h = []\n",
    "    for i in range(start,end):\n",
    "        i = str(i)\n",
    "        k = 0\n",
    "        for j in range(len(i)):\n",
    "            k += int(i[j])**(j+1)\n",
    "        if k == int(i):\n",
    "            h.append(k)\n",
    "    return h\n",
    "disariumNumber(1,100)"
   ]
  },
  {
   "cell_type": "code",
   "execution_count": 15,
   "id": "8793f94b",
   "metadata": {},
   "outputs": [
    {
     "name": "stdout",
     "output_type": "stream",
     "text": [
      "Enter a Number: 7\n",
      "7 is a Happy Number\n"
     ]
    }
   ],
   "source": [
    "#3. Write a Python program to check if the given number is Happy Number?\n",
    "def HappyNumber():\n",
    "    num = input('Enter a Number: ')\n",
    "    duplicate = num\n",
    "    row = set()   \n",
    "    while True:\n",
    "        if num != '1' and str(num) not in row:\n",
    "            row.add(num)\n",
    "            k = 0\n",
    "            for i in range(len((num))):\n",
    "                k = k+ int(num[i])**2\n",
    "            num = str(k)\n",
    "        elif str(num) in row:\n",
    "            print(f'{duplicate} is not a Happy Number')\n",
    "            break\n",
    "        else:\n",
    "            print(f'{duplicate} is a Happy Number')\n",
    "            break\n",
    "\n",
    "HappyNumber()\n",
    "\n",
    "        "
   ]
  },
  {
   "cell_type": "code",
   "execution_count": 22,
   "id": "4f975cc7",
   "metadata": {},
   "outputs": [
    {
     "data": {
      "text/plain": [
       "['1',\n",
       " '7',\n",
       " '10',\n",
       " '13',\n",
       " '19',\n",
       " '23',\n",
       " '28',\n",
       " '31',\n",
       " '32',\n",
       " '44',\n",
       " '49',\n",
       " '68',\n",
       " '70',\n",
       " '79',\n",
       " '82',\n",
       " '86',\n",
       " '91',\n",
       " '94',\n",
       " '97']"
      ]
     },
     "execution_count": 22,
     "metadata": {},
     "output_type": "execute_result"
    }
   ],
   "source": [
    "#4. Write a Python program to print all happy numbers between 1 and 100?\n",
    "def happy(start,end):\n",
    "    u = []\n",
    "    for m in range(start,end):\n",
    "        num = str(m)\n",
    "        duplicate = num\n",
    "        row = set()   \n",
    "        while True:\n",
    "            if num != '1' and str(num) not in row:\n",
    "                row.add(num)\n",
    "                k = 0\n",
    "                for i in range(len((num))):\n",
    "                    k = k+ int(num[i])**2\n",
    "                num = str(k)\n",
    "            elif str(num) in row:\n",
    "                break\n",
    "            else:\n",
    "                u.append(duplicate)\n",
    "                break   \n",
    "    return u\n",
    "\n",
    "happy(1,100)\n",
    "        "
   ]
  },
  {
   "cell_type": "code",
   "execution_count": 25,
   "id": "8e9a0681",
   "metadata": {},
   "outputs": [
    {
     "name": "stdout",
     "output_type": "stream",
     "text": [
      "8 is a harshad number\n"
     ]
    }
   ],
   "source": [
    "# 5. Write a Python program to determine whether the given number is a Harshad Number?\n",
    "def harshad(num):\n",
    "    l = 0\n",
    "    num = str(num)\n",
    "    for i in range(len(num)):\n",
    "        l += int(num[i])\n",
    "    if int(num)%l == 0:\n",
    "        print(f'{num} is a harshad number')\n",
    "    else:\n",
    "        print(f'{num} is not a harshad number')\n",
    "harshad(8)        "
   ]
  },
  {
   "cell_type": "code",
   "execution_count": 33,
   "id": "d164aa44",
   "metadata": {},
   "outputs": [
    {
     "data": {
      "text/plain": [
       "[2,\n",
       " 6,\n",
       " 12,\n",
       " 20,\n",
       " 30,\n",
       " 42,\n",
       " 56,\n",
       " 72,\n",
       " 90,\n",
       " 110,\n",
       " 132,\n",
       " 156,\n",
       " 182,\n",
       " 210,\n",
       " 240,\n",
       " 272,\n",
       " 306,\n",
       " 342,\n",
       " 380,\n",
       " 420,\n",
       " 462,\n",
       " 506,\n",
       " 552,\n",
       " 600,\n",
       " 650,\n",
       " 702,\n",
       " 756,\n",
       " 812,\n",
       " 870,\n",
       " 930,\n",
       " 992,\n",
       " 1056,\n",
       " 1122,\n",
       " 1190,\n",
       " 1260,\n",
       " 1332,\n",
       " 1406,\n",
       " 1482,\n",
       " 1560,\n",
       " 1640,\n",
       " 1722,\n",
       " 1806,\n",
       " 1892,\n",
       " 1980,\n",
       " 2070,\n",
       " 2162,\n",
       " 2256,\n",
       " 2352,\n",
       " 2450,\n",
       " 2550,\n",
       " 2652,\n",
       " 2756,\n",
       " 2862,\n",
       " 2970,\n",
       " 3080,\n",
       " 3192,\n",
       " 3306,\n",
       " 3422,\n",
       " 3540,\n",
       " 3660,\n",
       " 3782,\n",
       " 3906,\n",
       " 4032,\n",
       " 4160,\n",
       " 4290,\n",
       " 4422,\n",
       " 4556,\n",
       " 4692,\n",
       " 4830,\n",
       " 4970,\n",
       " 5112,\n",
       " 5256,\n",
       " 5402,\n",
       " 5550,\n",
       " 5700,\n",
       " 5852,\n",
       " 6006,\n",
       " 6162,\n",
       " 6320,\n",
       " 6480,\n",
       " 6642,\n",
       " 6806,\n",
       " 6972,\n",
       " 7140,\n",
       " 7310,\n",
       " 7482,\n",
       " 7656,\n",
       " 7832,\n",
       " 8010,\n",
       " 8190,\n",
       " 8372,\n",
       " 8556,\n",
       " 8742,\n",
       " 8930,\n",
       " 9120,\n",
       " 9312,\n",
       " 9506,\n",
       " 9702,\n",
       " 9900,\n",
       " 10100]"
      ]
     },
     "execution_count": 33,
     "metadata": {},
     "output_type": "execute_result"
    }
   ],
   "source": [
    "# 6. Write a Python program to print all pronic numbers between 1 and 100?\n",
    "def pronic(start,end):\n",
    "    h = []\n",
    "    for i in range(start,end+1):\n",
    "        k = i *(i+1)\n",
    "        h.append(k)\n",
    "    return h        \n",
    "\n",
    "pronic(1,100)"
   ]
  },
  {
   "cell_type": "code",
   "execution_count": null,
   "id": "e14dfd05",
   "metadata": {},
   "outputs": [],
   "source": []
  }
 ],
 "metadata": {
  "kernelspec": {
   "display_name": "Python 3 (ipykernel)",
   "language": "python",
   "name": "python3"
  },
  "language_info": {
   "codemirror_mode": {
    "name": "ipython",
    "version": 3
   },
   "file_extension": ".py",
   "mimetype": "text/x-python",
   "name": "python",
   "nbconvert_exporter": "python",
   "pygments_lexer": "ipython3",
   "version": "3.9.12"
  }
 },
 "nbformat": 4,
 "nbformat_minor": 5
}
