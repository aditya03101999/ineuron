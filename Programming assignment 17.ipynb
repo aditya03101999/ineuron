{
 "cells": [
  {
   "cell_type": "code",
   "execution_count": 1,
   "id": "c94fda0d",
   "metadata": {},
   "outputs": [
    {
     "data": {
      "text/plain": [
       "30"
      ]
     },
     "execution_count": 1,
     "metadata": {},
     "output_type": "execute_result"
    }
   ],
   "source": [
    "# Question1. \n",
    "# Create a function that takes three arguments a, b, c and returns the sum of the numbers that are evenly divided by c from the range a, b inclusive.\n",
    "def numbers(a,b,c):\n",
    "    k=0\n",
    "    for i in range(a,b+1):\n",
    "        if i%c==0:\n",
    "            k+=i\n",
    "    return k        \n",
    "            \n",
    "numbers(1,10,2)"
   ]
  },
  {
   "cell_type": "code",
   "execution_count": 2,
   "id": "26f25306",
   "metadata": {},
   "outputs": [
    {
     "name": "stdout",
     "output_type": "stream",
     "text": [
      "Enter the inequality: 3 < 7 < 11\n",
      "3 < 7 < 11 ➞ True\n"
     ]
    }
   ],
   "source": [
    "# Question2. Create a function that returns True if a given inequality expression is correct and False otherwise.\n",
    "def checkEquality():\n",
    "    in_string = input('Enter the inequality: ')\n",
    "    out_bool = eval(in_string)\n",
    "    print(f'{in_string} ➞ {out_bool}')\n",
    "    \n",
    "checkEquality()    "
   ]
  },
  {
   "cell_type": "code",
   "execution_count": 8,
   "id": "fecf66fb",
   "metadata": {},
   "outputs": [
    {
     "name": "stdout",
     "output_type": "stream",
     "text": [
      "Enter the string:  'the aardvark'\n",
      "Enter the character: #\n"
     ]
    },
    {
     "data": {
      "text/plain": [
       "\"'th# ##rdv#rk'\""
      ]
     },
     "execution_count": 8,
     "metadata": {},
     "output_type": "execute_result"
    }
   ],
   "source": [
    "# Question3. Create a function that replaces all the vowels in a string with a specified character.\n",
    "def replace_vowels():\n",
    "    line = input(\"Enter the string:  \")\n",
    "    character = input('Enter the character: ')\n",
    "    vowels = ['a','e','i','o','u','A','E','I','O','U']\n",
    "    for i in line:\n",
    "        if i in vowels:\n",
    "            line = line.replace(i,character)\n",
    "    return line\n",
    "\n",
    "replace_vowels()"
   ]
  },
  {
   "cell_type": "code",
   "execution_count": 9,
   "id": "67ccfc23",
   "metadata": {},
   "outputs": [
    {
     "data": {
      "text/plain": [
       "120"
      ]
     },
     "execution_count": 9,
     "metadata": {},
     "output_type": "execute_result"
    }
   ],
   "source": [
    "# Question4. Write a function that calculates the factorial of a number recursively. \n",
    "def factorial(n):\n",
    "    if n==0:\n",
    "        return 1\n",
    "    return n * factorial(n-1)\n",
    "factorial(5)\n"
   ]
  },
  {
   "cell_type": "code",
   "execution_count": 12,
   "id": "6c1dd868",
   "metadata": {},
   "outputs": [
    {
     "name": "stdout",
     "output_type": "stream",
     "text": [
      "Enter the string:  bcdef\n",
      "Enter the string:  abcde\n",
      "Hamning Distance b/w bcdef and abcde ➞ 5\n"
     ]
    }
   ],
   "source": [
    "# Question 5\n",
    "# Hamming distance is the number of characters that differ between two strings.\n",
    "def hamming_distance():\n",
    "    line_one = input(\"Enter the string:  \")\n",
    "    line_two = input('Enter the string:  ')\n",
    "    if len(line_one) == len(line_two):\n",
    "        m = 0\n",
    "        for i in range(len(line_one)):\n",
    "            if line_one[i] != line_two[i]:\n",
    "                m = m+1\n",
    "        print(f'Hamning Distance b/w {line_one} and {line_two} ➞ {m}')\n",
    "    else:\n",
    "        print('Both Strings Must be of Same Length')\n",
    "    \n",
    "hamming_distance()    "
   ]
  },
  {
   "cell_type": "code",
   "execution_count": null,
   "id": "c74f2796",
   "metadata": {},
   "outputs": [],
   "source": []
  }
 ],
 "metadata": {
  "kernelspec": {
   "display_name": "Python 3 (ipykernel)",
   "language": "python",
   "name": "python3"
  },
  "language_info": {
   "codemirror_mode": {
    "name": "ipython",
    "version": 3
   },
   "file_extension": ".py",
   "mimetype": "text/x-python",
   "name": "python",
   "nbconvert_exporter": "python",
   "pygments_lexer": "ipython3",
   "version": "3.9.12"
  }
 },
 "nbformat": 4,
 "nbformat_minor": 5
}
