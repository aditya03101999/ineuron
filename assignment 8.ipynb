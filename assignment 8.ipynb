{
 "cells": [
  {
   "cell_type": "code",
   "execution_count": 1,
   "id": "ce00e383",
   "metadata": {},
   "outputs": [],
   "source": [
    "#1. Is the Python Standard Library included with PyInputPlus?\n",
    "# No, it needs to be installed explicitly using the command !pip install PyInputPlus."
   ]
  },
  {
   "cell_type": "code",
   "execution_count": 2,
   "id": "7db010a9",
   "metadata": {},
   "outputs": [],
   "source": [
    "#2. Why is PyInputPlus commonly imported with import pyinputplus as pypi?\n",
    "# so that you can enter a shorter name when calling the module's functions"
   ]
  },
  {
   "cell_type": "code",
   "execution_count": 4,
   "id": "61c6e689",
   "metadata": {},
   "outputs": [],
   "source": [
    "#3 How do you distinguish between inputInt() and inputFloat()\n",
    "# inputInt() function Accepts an integer value while inputFloat() function Accepts a floating-point numeric value."
   ]
  },
  {
   "cell_type": "code",
   "execution_count": 5,
   "id": "ed89015c",
   "metadata": {},
   "outputs": [],
   "source": [
    "#4 Using PyInputPlus, how do you ensure that the user enters a whole number between 0 and 99?\n",
    "#inputInt() which only returns only integer values and for number between 0 and 99 i will use min and max paramenters."
   ]
  },
  {
   "cell_type": "code",
   "execution_count": 7,
   "id": "64737161",
   "metadata": {},
   "outputs": [],
   "source": [
    "#5 . What is transferred to the keyword arguments allowRegexes and blockRegexes?\n",
    "# allowRegexes and blockRegexes keyword arguments  to take list of regular expression strings to determine what the pyinputplus function will reject or accept valid input."
   ]
  },
  {
   "cell_type": "code",
   "execution_count": 8,
   "id": "f24d0bb0",
   "metadata": {},
   "outputs": [],
   "source": [
    "#6 If a blank input is entered three times, what does inputStr(limit=3) do?\n",
    "# The statement inputStr(limit=3) will throw two exceptions ValidationException and RetryLimitException"
   ]
  },
  {
   "cell_type": "code",
   "execution_count": 9,
   "id": "ce2f8362",
   "metadata": {},
   "outputs": [],
   "source": [
    "#7  If blank input is entered three times, what does inputStr(limit=3, default='hello') do?\n",
    "# After blank input is entered three times instead of raising RetryLimitException exception. the function will return hello as response to the calling function"
   ]
  },
  {
   "cell_type": "code",
   "execution_count": null,
   "id": "d9f4cf76",
   "metadata": {},
   "outputs": [],
   "source": []
  }
 ],
 "metadata": {
  "kernelspec": {
   "display_name": "Python 3 (ipykernel)",
   "language": "python",
   "name": "python3"
  },
  "language_info": {
   "codemirror_mode": {
    "name": "ipython",
    "version": 3
   },
   "file_extension": ".py",
   "mimetype": "text/x-python",
   "name": "python",
   "nbconvert_exporter": "python",
   "pygments_lexer": "ipython3",
   "version": "3.9.12"
  }
 },
 "nbformat": 4,
 "nbformat_minor": 5
}
