{
 "cells": [
  {
   "cell_type": "code",
   "execution_count": 4,
   "id": "5d08fff1",
   "metadata": {},
   "outputs": [
    {
     "name": "stdout",
     "output_type": "stream",
     "text": [
      "100\n",
      "0,35,70,"
     ]
    }
   ],
   "source": [
    "# Question 1:\n",
    "#Please write a program using generator to print the numbers which can be divisible by 5 and 7 between 0 and n in comma separated form while n is input by console.\n",
    "#Example:\n",
    "#If the following n is given as input to the program:\n",
    "#100\n",
    "#Then, the output of the program should be:\n",
    "#0,35,70\n",
    "def ques():\n",
    "    num = int(input())\n",
    "    for i in range(0,num+1):\n",
    "        if i%7 == 0:\n",
    "            if i%5 == 0:\n",
    "                yield i\n",
    "\n",
    "for ele in ques():\n",
    "    print(ele,end=\",\")"
   ]
  },
  {
   "cell_type": "code",
   "execution_count": 5,
   "id": "81431b3a",
   "metadata": {},
   "outputs": [
    {
     "name": "stdout",
     "output_type": "stream",
     "text": [
      "10\n",
      "0,2,4,6,8,10,"
     ]
    }
   ],
   "source": [
    "# Question 2:\n",
    "#Please write a program using generator to print the even numbers between 0 and n in comma separated form while n is input by console.\n",
    "#Example:\n",
    "#If the following n is given as input to the program:\n",
    "#10\n",
    "#Then, the output of the program should be:\n",
    "# 0,2,4,6,8,10\n",
    "\n",
    "def even_numbers():\n",
    "    num = int(input())\n",
    "    for i in range(0,num+1):\n",
    "        if i%2 == 0:\n",
    "            yield i\n",
    "for num in even_numbers():\n",
    "    print(num, end =',')"
   ]
  },
  {
   "cell_type": "code",
   "execution_count": null,
   "id": "43d5c0e2",
   "metadata": {},
   "outputs": [],
   "source": [
    "# Question 3:\n",
    "#The Fibonacci Sequence is computed based on the following formula:\n",
    "#f(n)=0 if n=0\n",
    "#f(n)=1 if n=1\n",
    "#f(n)=f(n-1)+f(n-2) if n>1\n",
    "#Please write a program using list comprehension to print the Fibonacci Sequence in comma separated form with a given n input by console.\n",
    "#Example:\n",
    "#If the following n is given as input to the program:\n",
    "#7\n",
    "\n",
    "#Then, the output of the program should be:\n",
    "#0,1,1,2,3,5,8,13\n",
    "\n",
    "def genFibonaci(in_num):\n",
    "    if in_num == 0:\n",
    "        return 0\n",
    "    elif in_num == 1:\n",
    "        return 1\n",
    "    else:\n",
    "        return genFibonaci(in_num-1)+genFibonaci(in_num-2)\n",
    "    \n",
    "print([genFibonaci(x) for x in range(8)])\n",
    "\n"
   ]
  },
  {
   "cell_type": "code",
   "execution_count": 5,
   "id": "455c2be2",
   "metadata": {},
   "outputs": [
    {
     "name": "stdout",
     "output_type": "stream",
     "text": [
      "Enter Email Address(es): john@google.com\n",
      "Username of john@google.com is john\n"
     ]
    }
   ],
   "source": [
    "#4.Assuming that we have some email addresses in the \"username@companyname.com\" format, please write program to print the user name of a given email address. Both user names and company names are composed of letters only ?\n",
    "#Example:\n",
    "#If the following email address is given as input to the program: john@google.com\n",
    "#Then, the output of the program should be: john\n",
    "def Usernames():\n",
    "    in_string = input('Enter Email Address(es): ')\n",
    "    out_string = in_string.split('@')\n",
    "    print(f'Username of {in_string} is {out_string[0]}')\n",
    "\n",
    "Usernames()"
   ]
  },
  {
   "cell_type": "code",
   "execution_count": null,
   "id": "59a9b931",
   "metadata": {},
   "outputs": [],
   "source": [
    "# Question 5:\n",
    "# Define a class named Shape and its subclass Square. The Square class has an init function which takes a length as argument. Both classes have a area function which can print the area\n",
    "# of the shape where Shape&#39;s area is 0 by default.\n"
   ]
  }
 ],
 "metadata": {
  "kernelspec": {
   "display_name": "Python 3 (ipykernel)",
   "language": "python",
   "name": "python3"
  },
  "language_info": {
   "codemirror_mode": {
    "name": "ipython",
    "version": 3
   },
   "file_extension": ".py",
   "mimetype": "text/x-python",
   "name": "python",
   "nbconvert_exporter": "python",
   "pygments_lexer": "ipython3",
   "version": "3.9.12"
  }
 },
 "nbformat": 4,
 "nbformat_minor": 5
}
