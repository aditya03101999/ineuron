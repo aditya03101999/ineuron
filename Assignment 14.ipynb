{
 "cells": [
  {
   "cell_type": "code",
   "execution_count": 1,
   "id": "1130fc63",
   "metadata": {},
   "outputs": [],
   "source": [
    "#1. What does RGBA stand for?\n",
    "#The RGB color model is extended in this specification to include “alpha” to allow specification of the opacity of a color.\n"
   ]
  },
  {
   "cell_type": "code",
   "execution_count": 2,
   "id": "c93ed6f4",
   "metadata": {},
   "outputs": [],
   "source": [
    "#2 From the Pillow module, how do you get the RGBA value of any images?\n",
    "#ImageColor.getcolor()"
   ]
  },
  {
   "cell_type": "code",
   "execution_count": 3,
   "id": "b21bccda",
   "metadata": {},
   "outputs": [],
   "source": [
    "#3 What is a box tuple, and how does it work?\n",
    "# It is a is a tuple value of four integers: the left-edge x-coordinate, the top-edge y-coordinate,the width, and the height, respectively."
   ]
  },
  {
   "cell_type": "code",
   "execution_count": 6,
   "id": "50ad8995",
   "metadata": {},
   "outputs": [
    {
     "name": "stdout",
     "output_type": "stream",
     "text": [
      "Width, Height -> (4608, 3456)\n"
     ]
    }
   ],
   "source": [
    "#4 Use your image and load in notebook then, How can you find out the width and height of an Image object?\n",
    "from PIL import Image\n",
    "df = Image.open('C:\\\\Users\\\\hp\\\\Pictures\\\\adi.jpg')\n",
    "print(f'Width, Height -> {df.size}') "
   ]
  },
  {
   "cell_type": "code",
   "execution_count": 9,
   "id": "a9d4c665",
   "metadata": {},
   "outputs": [],
   "source": [
    "#5 What method would you call to get Image object for a 100×100 image, excluding the lower-left quarter of it?\n",
    "df = Image.open('C:\\\\Users\\\\hp\\\\Pictures\\\\adi.jpg')\n",
    "img = df.crop((0,50,50,50))\n",
    " "
   ]
  },
  {
   "cell_type": "code",
   "execution_count": 10,
   "id": "e19c351d",
   "metadata": {},
   "outputs": [],
   "source": [
    "#6. After making changes to an Image object, how could you save it as an image file?\n",
    "df = Image.open('C:\\\\Users\\\\hp\\\\Pictures\\\\adi.jpg')\n",
    "df.save('df2.jpg')\n"
   ]
  },
  {
   "cell_type": "code",
   "execution_count": 12,
   "id": "89e677f9",
   "metadata": {},
   "outputs": [],
   "source": [
    "#7. What module contains Pillow’s shape-drawing code?\n",
    "# ImageDraw module"
   ]
  },
  {
   "cell_type": "code",
   "execution_count": 13,
   "id": "032265db",
   "metadata": {},
   "outputs": [],
   "source": [
    "#8. Image objects do not have drawing methods. What kind of object does? How do you get this kind of object?\n",
    "# ImageDraw objects have shape-drawing methods such as point(), line(), or rectangle().They are returned by passing the Image object to the ImageDraw.Draw() function."
   ]
  },
  {
   "cell_type": "code",
   "execution_count": null,
   "id": "23685f26",
   "metadata": {},
   "outputs": [],
   "source": []
  }
 ],
 "metadata": {
  "kernelspec": {
   "display_name": "Python 3 (ipykernel)",
   "language": "python",
   "name": "python3"
  },
  "language_info": {
   "codemirror_mode": {
    "name": "ipython",
    "version": 3
   },
   "file_extension": ".py",
   "mimetype": "text/x-python",
   "name": "python",
   "nbconvert_exporter": "python",
   "pygments_lexer": "ipython3",
   "version": "3.9.12"
  }
 },
 "nbformat": 4,
 "nbformat_minor": 5
}
