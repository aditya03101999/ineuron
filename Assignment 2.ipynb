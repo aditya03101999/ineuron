{
 "cells": [
  {
   "cell_type": "code",
   "execution_count": 4,
   "id": "8aa16fb8",
   "metadata": {},
   "outputs": [
    {
     "name": "stdout",
     "output_type": "stream",
     "text": [
      "True False\n"
     ]
    }
   ],
   "source": [
    "#1.What are the two values of the Boolean data type? How do you write them?\n",
    "# answer: True and False are the two boolean data types, we can wirte them in python using capital T and F with the rest of the word in lowercase\n",
    "print(True , False)"
   ]
  },
  {
   "cell_type": "code",
   "execution_count": 2,
   "id": "44a82332",
   "metadata": {},
   "outputs": [],
   "source": [
    "#2. What are the three different types of Boolean operators?\n",
    "# answer: AND , OR , NOT are three different boolean operators."
   ]
  },
  {
   "cell_type": "code",
   "execution_count": 8,
   "id": "08740be3",
   "metadata": {},
   "outputs": [],
   "source": [
    "#3.Make a list of each Boolean operator's truth tables (i.e. every possible combination of Boolean values for the operator and what it evaluate ). \n",
    "# answer \n",
    "#True is 1 and False is 0\n",
    "#Truth Table for AND\n",
    "#A B output\n",
    "#0 0 0\n",
    "#0 1 0\n",
    "#1 0 0\n",
    "#1 1 1\n",
    "#Truth Table for OR\n",
    "#A B output\n",
    "#0 0 0\n",
    "#0 1 1\n",
    "#1 0 1\n",
    "#1 1 1\n",
    "#Truth Table for NOT\n",
    "#A output\n",
    "#0 1\n",
    "#1 0"
   ]
  },
  {
   "cell_type": "code",
   "execution_count": 9,
   "id": "fc1700b2",
   "metadata": {},
   "outputs": [
    {
     "name": "stdout",
     "output_type": "stream",
     "text": [
      "False\n",
      "False\n",
      "True\n",
      "False\n",
      "False\n",
      "True\n"
     ]
    }
   ],
   "source": [
    "#4. What are the values of the following expressions?\n",
    "print((5>4) and (3==5))\n",
    "print(not(5>4))\n",
    "print((5>4) or (3==5))\n",
    "print(not(5>4) or (3==5))\n",
    "print((True and True) and (True==False))\n",
    "print((not(False))or(not(True)))"
   ]
  },
  {
   "cell_type": "code",
   "execution_count": 10,
   "id": "60546cde",
   "metadata": {},
   "outputs": [],
   "source": [
    "#5. What are the six comparison operators?\n",
    "#answer ==, !=, <, >, <=, and >="
   ]
  },
  {
   "cell_type": "code",
   "execution_count": 11,
   "id": "7f7740b8",
   "metadata": {},
   "outputs": [],
   "source": [
    "#6. How do you tell the difference between the equal to and assignment operators?Describe a condition and when you would use one.\n",
    "#answer (==) is the equal to operator that compares two values and give output in a boolean data type, while (=) is the assignment operator that stores a value in a variable."
   ]
  },
  {
   "cell_type": "code",
   "execution_count": 12,
   "id": "7c087d22",
   "metadata": {},
   "outputs": [
    {
     "name": "stdout",
     "output_type": "stream",
     "text": [
      "ham\n",
      "spam\n",
      "spam\n"
     ]
    }
   ],
   "source": [
    "#7. Identify the three blocks in this code:\n",
    "# if else condition statement is used in the below code .\n",
    "spam = 0\n",
    "if spam == 10:\n",
    "    print('eggs') #Block 1\n",
    "if spam > 5:\n",
    "    print('bacon') #Block 2\n",
    "else:\n",
    "    print('ham') #Block 3\n",
    "    print('spam')\n",
    "    print('spam')"
   ]
  },
  {
   "cell_type": "code",
   "execution_count": 16,
   "id": "43d4a432",
   "metadata": {},
   "outputs": [
    {
     "name": "stdout",
     "output_type": "stream",
     "text": [
      "Input a no.0\n",
      "Greetings!\n"
     ]
    }
   ],
   "source": [
    "#8. Write code that prints Hello if 1 is stored in spam, prints Howdy if 2 is stored in spam, and prints Greetings! if anything else is stored in spam.\n",
    "spam = int(input(\"Input a no.\"))\n",
    "if spam == 1:\n",
    "    print(\"Hello\")\n",
    "elif spam == 2:\n",
    "    print(\"Howdy\")\n",
    "else:\n",
    "    print(\"Greetings!\")"
   ]
  },
  {
   "cell_type": "code",
   "execution_count": 17,
   "id": "ea52e2b0",
   "metadata": {},
   "outputs": [],
   "source": [
    "#9.If your programme is stuck in an endless loop, what keys you’ll press?\n",
    "# i will press ctrl+c"
   ]
  },
  {
   "cell_type": "code",
   "execution_count": 18,
   "id": "55ad8ef3",
   "metadata": {},
   "outputs": [],
   "source": [
    "#10 How can you tell the difference between break and continue?\n",
    "# break statement stops the loop in which the statement is placed while A Python continue statement skips a single iteration in a loop"
   ]
  },
  {
   "cell_type": "code",
   "execution_count": 22,
   "id": "cbc63663",
   "metadata": {},
   "outputs": [
    {
     "name": "stdout",
     "output_type": "stream",
     "text": [
      "range(10)\n",
      "0\n",
      "1\n",
      "2\n",
      "3\n",
      "4\n",
      "5\n",
      "6\n",
      "7\n",
      "8\n",
      "9\n",
      "range(0,10)\n",
      "0\n",
      "1\n",
      "2\n",
      "3\n",
      "4\n",
      "5\n",
      "6\n",
      "7\n",
      "8\n",
      "9\n",
      "range(0, 10, 1)\n",
      "0\n",
      "1\n",
      "2\n",
      "3\n",
      "4\n",
      "5\n",
      "6\n",
      "7\n",
      "8\n",
      "9\n",
      "from above output we can see all will do the same thing, the only difference is calling the arguments in different manner\n"
     ]
    }
   ],
   "source": [
    "#11 In a for loop, what is the difference between range(10), range(0, 10), and range(0, 10, 1)?\n",
    "print(\"range(10)\")\n",
    "for i in range(10):\n",
    "    print(i)\n",
    "print(\"range(0,10)\")\n",
    "for i in range(0,10):\n",
    "    print(i)\n",
    "print(\"range(0, 10, 1)\")\n",
    "for i in range(0, 10, 1):\n",
    "    print(i)\n",
    "print(\"from above output we can see all will do the same thing, the only difference is calling the arguments in different manner\")    "
   ]
  },
  {
   "cell_type": "code",
   "execution_count": 25,
   "id": "01486301",
   "metadata": {},
   "outputs": [
    {
     "name": "stdout",
     "output_type": "stream",
     "text": [
      "for loop\n",
      "0\n",
      "1\n",
      "2\n",
      "3\n",
      "4\n",
      "5\n",
      "6\n",
      "7\n",
      "8\n",
      "9\n",
      "10\n",
      "while loop\n",
      "0\n",
      "1\n",
      "2\n",
      "3\n",
      "4\n",
      "5\n",
      "6\n",
      "7\n",
      "8\n",
      "9\n",
      "10\n"
     ]
    }
   ],
   "source": [
    "#12. Write a short program that prints the numbers 1 to 10 using a for loop. Then write an equivalent program that prints the numbers 1 to 10 using a while loop.\n",
    "print(\"for loop\")\n",
    "for i in range(0,11,1):\n",
    "    print (i)\n",
    "print(\"while loop\")\n",
    "j=0\n",
    "k=11\n",
    "while j!=k:\n",
    "    print(j)\n",
    "    j=j+1\n"
   ]
  },
  {
   "cell_type": "code",
   "execution_count": 26,
   "id": "e5ef830a",
   "metadata": {},
   "outputs": [],
   "source": [
    "#Q13. If you had a function named bacon() inside a module named spam, how would you call it after importing spam?\n",
    "# answer By using spam.bacon()."
   ]
  },
  {
   "cell_type": "code",
   "execution_count": null,
   "id": "73e57642",
   "metadata": {},
   "outputs": [],
   "source": []
  }
 ],
 "metadata": {
  "kernelspec": {
   "display_name": "Python 3 (ipykernel)",
   "language": "python",
   "name": "python3"
  },
  "language_info": {
   "codemirror_mode": {
    "name": "ipython",
    "version": 3
   },
   "file_extension": ".py",
   "mimetype": "text/x-python",
   "name": "python",
   "nbconvert_exporter": "python",
   "pygments_lexer": "ipython3",
   "version": "3.9.12"
  }
 },
 "nbformat": 4,
 "nbformat_minor": 5
}
