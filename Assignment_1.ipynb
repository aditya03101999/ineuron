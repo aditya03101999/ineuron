{
 "cells": [
  {
   "cell_type": "code",
   "execution_count": 15,
   "id": "50e9c9e0",
   "metadata": {},
   "outputs": [],
   "source": [
    "#Q1. In the below elements which of them are values or an expression? eg:- values can be integer or string and expressions will be mathematical operators.#\n",
    "#* ,'hello',-87.8,- ,/ ,+,6 \n",
    "\n",
    "#Answers values are 'hello',-87.8,6 expressions are * , - , /,+\n"
   ]
  },
  {
   "cell_type": "code",
   "execution_count": 5,
   "id": "a10a70b4",
   "metadata": {},
   "outputs": [],
   "source": [
    "#Q2 What is the difference between string and variable?\n",
    "#answer Variable is a keyword in which we can store information of any data type whereas string is a data type like 'hello'."
   ]
  },
  {
   "cell_type": "code",
   "execution_count": 6,
   "id": "a91c5b61",
   "metadata": {},
   "outputs": [],
   "source": [
    "#Q3 Describe three different data types.\n",
    "#Integer- this data type is used for whole numbers\n",
    "# Float - it is used for decimal numbers.\n",
    "# Boolean - True and False comes under this data type."
   ]
  },
  {
   "cell_type": "code",
   "execution_count": 7,
   "id": "d7f42911",
   "metadata": {},
   "outputs": [],
   "source": [
    "#Q4 What is an expression made up of? What do all expressions do?\n",
    "#An expression is a combination of operators and operands that is interpreted to produce different values. In any programming language, expressions are evaluated according to their operator precedence."
   ]
  },
  {
   "cell_type": "code",
   "execution_count": 8,
   "id": "d7b05155",
   "metadata": {},
   "outputs": [],
   "source": [
    "#Q5 This assignment statements, like spam = 10. What is the difference between an expression and a statement?\n",
    "# Expression does the task of evaluating value\n",
    "# In statement we can assign value to a variable , evaluating a value and display the value we want.\n"
   ]
  },
  {
   "cell_type": "code",
   "execution_count": 10,
   "id": "b9570755",
   "metadata": {},
   "outputs": [
    {
     "name": "stdout",
     "output_type": "stream",
     "text": [
      "23\n"
     ]
    }
   ],
   "source": [
    "#Q6 After running the following code, what does the variable bacon contain?\n",
    "bacon = 22\n",
    "answer = bacon + 1\n",
    "print(answer)"
   ]
  },
  {
   "cell_type": "code",
   "execution_count": 11,
   "id": "71756799",
   "metadata": {},
   "outputs": [
    {
     "name": "stdout",
     "output_type": "stream",
     "text": [
      "spamspamspam\n",
      "spamspamspam\n"
     ]
    }
   ],
   "source": [
    "#Q7. What should the values of the following two terms be?\n",
    "#'spam' + 'spamspam'\n",
    "#'spam' * 3\n",
    "print('spam' + 'spamspam')\n",
    "print('spam' * 3)"
   ]
  },
  {
   "cell_type": "code",
   "execution_count": 12,
   "id": "47dfcb0c",
   "metadata": {},
   "outputs": [],
   "source": [
    "#Q8 Why is eggs a valid variable name while 100 is invalid?\n",
    "# a varible name can be a name or a alphabet but cannot be a in form of numerical value.\n"
   ]
  },
  {
   "cell_type": "code",
   "execution_count": 13,
   "id": "5ec566e3",
   "metadata": {},
   "outputs": [],
   "source": [
    "#Q9 What three functions can be used to get the integer, floating-point number, or string version of a value?\n",
    "# int() for integer , str() string, float() flaoting point number"
   ]
  },
  {
   "cell_type": "code",
   "execution_count": 14,
   "id": "4fe8e5d3",
   "metadata": {},
   "outputs": [],
   "source": [
    "#Q10 Why does this expression cause an error? How can you fix it?\n",
    "#  'I have eaten ' + 99 + ' burritos.'\n",
    "# because we cannot concatenate a string value with integer value with the help of + operator "
   ]
  },
  {
   "cell_type": "code",
   "execution_count": null,
   "id": "52eed630",
   "metadata": {},
   "outputs": [],
   "source": []
  }
 ],
 "metadata": {
  "kernelspec": {
   "display_name": "Python 3 (ipykernel)",
   "language": "python",
   "name": "python3"
  },
  "language_info": {
   "codemirror_mode": {
    "name": "ipython",
    "version": 3
   },
   "file_extension": ".py",
   "mimetype": "text/x-python",
   "name": "python",
   "nbconvert_exporter": "python",
   "pygments_lexer": "ipython3",
   "version": "3.9.12"
  }
 },
 "nbformat": 4,
 "nbformat_minor": 5
}
