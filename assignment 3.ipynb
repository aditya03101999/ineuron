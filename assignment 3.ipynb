{
 "cells": [
  {
   "cell_type": "code",
   "execution_count": 1,
   "id": "0b157a0e",
   "metadata": {},
   "outputs": [],
   "source": [
    "#1. Why are functions advantageous to have in your programs?\n",
    "#answer when we created a function we stored a code in that to perform a task. we can perform the task again again by calling the same function without writing the full code.The main advantage of functions is code Reusability."
   ]
  },
  {
   "cell_type": "code",
   "execution_count": 2,
   "id": "120886b3",
   "metadata": {},
   "outputs": [],
   "source": [
    "#2. When does the code in a function run: when it's specified or when it's called?\n",
    "# answer When the function is called the code in it runs.\n"
   ]
  },
  {
   "cell_type": "code",
   "execution_count": 3,
   "id": "85c3c912",
   "metadata": {},
   "outputs": [],
   "source": [
    "#3. What statement creates a function?\n",
    "#The def statement defines a function\n",
    "#Syntax of Function:\n",
    "#def function_name(parameters):\n",
    "#    \"\"\"doc string\"\"\"          \n",
    "#    -----function body-----\n",
    "#    -----function body-----\n",
    "#    return value\n"
   ]
  },
  {
   "cell_type": "code",
   "execution_count": 4,
   "id": "ded6262d",
   "metadata": {},
   "outputs": [],
   "source": [
    "#4. What is the difference between a function and a function call?\n",
    "#A function is procedure to achieve a particular result. while function call is using this function to achive that task. Using a function to do a particular task any point in program is called as function call."
   ]
  },
  {
   "cell_type": "code",
   "execution_count": 5,
   "id": "ef4cde49",
   "metadata": {},
   "outputs": [],
   "source": [
    "#5. How many global scopes are there in a Python program? How many local scopes?\n",
    "# There is only one global scope in python program. The local scope is created when we called a function."
   ]
  },
  {
   "cell_type": "code",
   "execution_count": 6,
   "id": "78511e79",
   "metadata": {},
   "outputs": [],
   "source": [
    "#6. What happens to variables in a local scope when the function call returns?\n",
    "# When a function returns, the local scope is destroyed, and all the variables in it are forgotten."
   ]
  },
  {
   "cell_type": "code",
   "execution_count": 8,
   "id": "b517f3ff",
   "metadata": {},
   "outputs": [],
   "source": [
    "#7 What is the concept of a return value? Is it possible to have a return value in an expression?\n",
    "# A return value is the value that a function call evaluates. Return value can be used as a part of a function."
   ]
  },
  {
   "cell_type": "code",
   "execution_count": 9,
   "id": "02dffb14",
   "metadata": {},
   "outputs": [],
   "source": [
    "#8. If a function does not have a return statement, what is the return value of a call to that function?\n",
    "#its return value is None"
   ]
  },
  {
   "cell_type": "code",
   "execution_count": 10,
   "id": "728335e3",
   "metadata": {},
   "outputs": [],
   "source": [
    "#9. How do you make a function variable refer to the global variable?\n",
    "#If you want to refer to a global variable in a function, you can use the global keyword to declare which variables are global."
   ]
  },
  {
   "cell_type": "code",
   "execution_count": 11,
   "id": "1851cdf8",
   "metadata": {},
   "outputs": [],
   "source": [
    "#10 What is the data type of None?\n",
    "#The data type of None is NoneType.\n"
   ]
  },
  {
   "cell_type": "code",
   "execution_count": 13,
   "id": "03fc6783",
   "metadata": {},
   "outputs": [],
   "source": [
    "#11 What does the sentence import areallyourpetsnamederic do?\n",
    "# import areallyourpetsnamederic this statement helps in calling module with the name in the statement.\n"
   ]
  },
  {
   "cell_type": "code",
   "execution_count": 14,
   "id": "9d1a211f",
   "metadata": {},
   "outputs": [],
   "source": [
    "#12. If you had a bacon() feature in a spam module, what would you call it after importing spam?\n",
    "#spam.bacon()"
   ]
  },
  {
   "cell_type": "code",
   "execution_count": 15,
   "id": "92c26b8f",
   "metadata": {},
   "outputs": [],
   "source": [
    "#13. What can you do to save a programme from crashing if it encounters an error?\n",
    "# we can write our code in try clause and use except block to handle the error."
   ]
  },
  {
   "cell_type": "code",
   "execution_count": 16,
   "id": "033622fa",
   "metadata": {},
   "outputs": [],
   "source": [
    "#14. What is the purpose of the try clause? What is the purpose of the except clause?\n",
    "# If a code has a propability to cause an error it will come under try clause. when there is error in try block code it will come under exception clasue and handle the error."
   ]
  },
  {
   "cell_type": "code",
   "execution_count": null,
   "id": "1a2c4a8d",
   "metadata": {},
   "outputs": [],
   "source": []
  }
 ],
 "metadata": {
  "kernelspec": {
   "display_name": "Python 3 (ipykernel)",
   "language": "python",
   "name": "python3"
  },
  "language_info": {
   "codemirror_mode": {
    "name": "ipython",
    "version": 3
   },
   "file_extension": ".py",
   "mimetype": "text/x-python",
   "name": "python",
   "nbconvert_exporter": "python",
   "pygments_lexer": "ipython3",
   "version": "3.9.12"
  }
 },
 "nbformat": 4,
 "nbformat_minor": 5
}
