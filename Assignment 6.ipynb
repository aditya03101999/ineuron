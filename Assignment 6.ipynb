{
 "cells": [
  {
   "cell_type": "code",
   "execution_count": 1,
   "id": "e2eb526f",
   "metadata": {},
   "outputs": [],
   "source": [
    "#1.What are Escape characters ? and how do you use them ?\n",
    "# Escape characters represent characters in string values that would otherwise be difficult or impossible to type into code. we can use the backslash character to escape a single character or symbol"
   ]
  },
  {
   "cell_type": "code",
   "execution_count": 2,
   "id": "c53c7b6e",
   "metadata": {},
   "outputs": [],
   "source": [
    "#2. What do the escape characters n and t stand for?\n",
    "# n is for new line and t is for tab."
   ]
  },
  {
   "cell_type": "code",
   "execution_count": 3,
   "id": "361d213c",
   "metadata": {},
   "outputs": [],
   "source": [
    "#3 What is the way to include backslash characters in a string?\n",
    "# with the help of escape character."
   ]
  },
  {
   "cell_type": "code",
   "execution_count": 4,
   "id": "d7d8e609",
   "metadata": {},
   "outputs": [],
   "source": [
    "#4 The string \"Howl's Moving Castle\" is a correct value. Why isn't the single quote character in the word Howl's not escaped a problem ?\n",
    "#The string \"Howl's Moving Castle\" escaped the problem because it is wrapped inside double quotes. if its wrapped inside single quotes then we have to use escape character \\' to show single quote in the final output"
   ]
  },
  {
   "cell_type": "code",
   "execution_count": 5,
   "id": "501da6b6",
   "metadata": {},
   "outputs": [],
   "source": [
    "#5 How do you write a string of newlines if you don't want to use the n character?\n",
    "# With the help of multiline string we can write a string of newlines without using n."
   ]
  },
  {
   "cell_type": "code",
   "execution_count": 10,
   "id": "470f7ee0",
   "metadata": {},
   "outputs": [
    {
     "name": "stdout",
     "output_type": "stream",
     "text": [
      "e Hello Hello lo, world!\n"
     ]
    }
   ],
   "source": [
    "#6 What are the values of the given expressions ?\n",
    "a='Hello, world!'[1]\n",
    "b='Hello, world!'[0:5]\n",
    "c='Hello, world!'[:5]\n",
    "d='Hello, world!'[3:]\n",
    "print(a, b, c, d)"
   ]
  },
  {
   "cell_type": "code",
   "execution_count": 12,
   "id": "1007499b",
   "metadata": {},
   "outputs": [
    {
     "name": "stdout",
     "output_type": "stream",
     "text": [
      "HELLO\n",
      "True\n",
      "hello\n"
     ]
    }
   ],
   "source": [
    "#7 What are the values of the following expressions ?\n",
    "print('Hello'.upper())\n",
    "print('Hello'.upper().isupper())\n",
    "print('Hello'.upper().lower())"
   ]
  },
  {
   "cell_type": "code",
   "execution_count": 15,
   "id": "20b75bba",
   "metadata": {},
   "outputs": [
    {
     "name": "stdout",
     "output_type": "stream",
     "text": [
      "['Remember,', 'remember,', 'the', 'fifith', 'of', 'July.']\n",
      "There-can-only-one\n"
     ]
    }
   ],
   "source": [
    "#8 What are the values of the following expressions ?\n",
    "a='Remember, remember, the fifith of July.'.split()\n",
    "b= '-'.join('There can only one'.split())\n",
    "print(a)\n",
    "print(b)"
   ]
  },
  {
   "cell_type": "code",
   "execution_count": null,
   "id": "e791440b",
   "metadata": {},
   "outputs": [],
   "source": [
    "#9 What are the methods for right-justifying, left-justifying and centering a string ?\n",
    "# "
   ]
  }
 ],
 "metadata": {
  "kernelspec": {
   "display_name": "Python 3 (ipykernel)",
   "language": "python",
   "name": "python3"
  },
  "language_info": {
   "codemirror_mode": {
    "name": "ipython",
    "version": 3
   },
   "file_extension": ".py",
   "mimetype": "text/x-python",
   "name": "python",
   "nbconvert_exporter": "python",
   "pygments_lexer": "ipython3",
   "version": "3.9.12"
  }
 },
 "nbformat": 4,
 "nbformat_minor": 5
}
