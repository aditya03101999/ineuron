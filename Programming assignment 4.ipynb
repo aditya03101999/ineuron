{
 "cells": [
  {
   "cell_type": "code",
   "execution_count": 21,
   "id": "f5e8413d",
   "metadata": {},
   "outputs": [
    {
     "name": "stdout",
     "output_type": "stream",
     "text": [
      "factorial 720\n"
     ]
    }
   ],
   "source": [
    "#1. Write a Python Program to Find the Factorial of a Number?\n",
    "def factorial(num):\n",
    "    k=num\n",
    "    for i in range((num-1),0,-1):\n",
    "        k= k*i\n",
    "    print(\"factorial\" ,k)\n",
    "    \n",
    "factorial(6)    "
   ]
  },
  {
   "cell_type": "code",
   "execution_count": 25,
   "id": "8f5d31c2",
   "metadata": {},
   "outputs": [
    {
     "name": "stdout",
     "output_type": "stream",
     "text": [
      "2 X 1 = 2 \n",
      "2 X 2 = 4 \n",
      "2 X 3 = 6 \n",
      "2 X 4 = 8 \n",
      "2 X 5 = 10 \n",
      "2 X 6 = 12 \n",
      "2 X 7 = 14 \n",
      "2 X 8 = 16 \n",
      "2 X 9 = 18 \n",
      "2 X 10 = 20 \n",
      "2 X 11 = 22 \n",
      "2 X 12 = 24 \n",
      "2 X 13 = 26 \n",
      "2 X 14 = 28 \n",
      "2 X 15 = 30 \n"
     ]
    }
   ],
   "source": [
    "# 2. Write a Python Program to Display the multiplication Table?\n",
    "def table(num,entries):\n",
    "    for i in range(1,entries+1):\n",
    "        print(f\"{num} X {i} = {num*i} \")\n",
    "table(2,15)        "
   ]
  },
  {
   "cell_type": "code",
   "execution_count": 1,
   "id": "90a448fc",
   "metadata": {},
   "outputs": [
    {
     "name": "stdout",
     "output_type": "stream",
     "text": [
      "Enter the no of fibonacci sequences you want? 24\n",
      "The First 24 fibonacci series are:  [0, 1, 1, 2, 3, 5, 8, 13, 21, 34, 55, 89, 144, 233, 377, 610, 987, 1597, 2584, 4181, 6765, 10946, 17711, 28657]\n"
     ]
    }
   ],
   "source": [
    "# 3. Write a Python Program to Print the Fibonacci sequence?\n",
    "s_count = int(input('Enter the no of fibonacci sequences you want? '))\n",
    "initial_list = [0,1]\n",
    "if s_count < 0:\n",
    "    print('Fibonacci Numbers are not available for Negative Numbers')\n",
    "elif s_count <= 2 and s_count >= 0:\n",
    "    print(initial_list)\n",
    "else:\n",
    "    for ins in range(s_count):\n",
    "        if ins >= 2:\n",
    "            initial_list.append(initial_list[ins-1]+initial_list[ins-2])\n",
    "    print(f'The First {s_count} fibonacci series are: ',initial_list)\n",
    "  "
   ]
  },
  {
   "cell_type": "code",
   "execution_count": 24,
   "id": "a9f09e5f",
   "metadata": {},
   "outputs": [
    {
     "name": "stdout",
     "output_type": "stream",
     "text": [
      "12 is a Not Armstrong Number\n",
      "371 is a Armstrong Number\n"
     ]
    }
   ],
   "source": [
    "#4. Write a Python Program to Check Armstrong Number?\n",
    "def armstrong(num):\n",
    "    sum = 0\n",
    "    for i in range(len(num)):\n",
    "        sum = sum + pow(int(num[i]),3)\n",
    "    if sum == int(num):\n",
    "        print(f'{num} is a Armstrong Number')\n",
    "    else:\n",
    "        print(f'{num} is a Not Armstrong Number')\n",
    "armstrong('12')  \n",
    "armstrong('371')"
   ]
  },
  {
   "cell_type": "code",
   "execution_count": 32,
   "id": "9baf04e9",
   "metadata": {},
   "outputs": [
    {
     "name": "stdout",
     "output_type": "stream",
     "text": [
      "Enter the Start of the Interval: 10\n",
      "Enter the End of the Interval: 1000\n",
      "The Armstrong numbers between 10 and 1000 are [153, 370, 371, 407]\n"
     ]
    }
   ],
   "source": [
    "#5. Write a Python Program to Find Armstrong Number in an Interval?\n",
    "def checkArmstrongNumber(num, storage):\n",
    "    sum = 0\n",
    "    for i in range(len(num)):\n",
    "        sum = sum + pow(int(num[i]),3)\n",
    "    if sum == int(num):\n",
    "        storage.append(int(num))\n",
    "\n",
    "start_interval = int(input('Enter the Start of the Interval: '))\n",
    "end_interval = int(input('Enter the End of the Interval: '))\n",
    "list_of_armstrong = []\n",
    "\n",
    "if start_interval > end_interval:\n",
    "    print(\"Start Interval Cannot be Greater than End Interval\")\n",
    "else:\n",
    "    for number in range(start_interval,end_interval+1):\n",
    "        checkArmstrongNumber(str(number),list_of_armstrong)\n",
    "    print(f'The Armstrong numbers between {start_interval} and {end_interval} are {list_of_armstrong}')"
   ]
  },
  {
   "cell_type": "code",
   "execution_count": 33,
   "id": "2656c807",
   "metadata": {},
   "outputs": [
    {
     "name": "stdout",
     "output_type": "stream",
     "text": [
      "Enter a number: 12\n",
      "Sum of 12 natural numbers is 78.0\n"
     ]
    }
   ],
   "source": [
    "# 6. Write a Python Program to Find the Sum of Natural Numbers?\n",
    "def sumOfNaturalNumbers(num):\n",
    "    sum = num*((num+1)/2)\n",
    "    print(f'Sum of {num} natural numbers is {sum}')\n",
    "    \n",
    "num = int(input('Enter a number: '))\n",
    "sumOfNaturalNumbers(num)"
   ]
  },
  {
   "cell_type": "code",
   "execution_count": null,
   "id": "58fc9731",
   "metadata": {},
   "outputs": [],
   "source": []
  }
 ],
 "metadata": {
  "kernelspec": {
   "display_name": "Python 3 (ipykernel)",
   "language": "python",
   "name": "python3"
  },
  "language_info": {
   "codemirror_mode": {
    "name": "ipython",
    "version": 3
   },
   "file_extension": ".py",
   "mimetype": "text/x-python",
   "name": "python",
   "nbconvert_exporter": "python",
   "pygments_lexer": "ipython3",
   "version": "3.9.12"
  }
 },
 "nbformat": 4,
 "nbformat_minor": 5
}
