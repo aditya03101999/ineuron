{
 "cells": [
  {
   "cell_type": "markdown",
   "id": "e7f51589",
   "metadata": {},
   "source": [
    "## Question1\n",
    "Write a function that takes a list and a number as arguments. Add the number to the end of\n",
    "the list, then remove the first element of the list. The function should then return the updated\n",
    "list."
   ]
  },
  {
   "cell_type": "code",
   "execution_count": 24,
   "id": "2514b1c1",
   "metadata": {},
   "outputs": [],
   "source": [
    "def next_in_line(l,n):\n",
    "    new_l = l[1::]\n",
    "    new_l.append(n)\n",
    "    return new_l"
   ]
  },
  {
   "cell_type": "code",
   "execution_count": 25,
   "id": "e4c67970",
   "metadata": {},
   "outputs": [
    {
     "data": {
      "text/plain": [
       "[4, 5, 6]"
      ]
     },
     "execution_count": 25,
     "metadata": {},
     "output_type": "execute_result"
    }
   ],
   "source": [
    "next_in_line([3,4,5],6)\n"
   ]
  },
  {
   "cell_type": "markdown",
   "id": "c07e799e",
   "metadata": {},
   "source": [
    "## Question2\n",
    "Create the function that takes a list of dictionaries and returns the sum of people's budgets."
   ]
  },
  {
   "cell_type": "code",
   "execution_count": 42,
   "id": "c8b2ed49",
   "metadata": {},
   "outputs": [],
   "source": [
    "def get_budgets(d):\n",
    "    s = 0\n",
    "    for i in d:\n",
    "        s = s + i['budget']\n",
    "    return s    "
   ]
  },
  {
   "cell_type": "code",
   "execution_count": 43,
   "id": "3cd87b16",
   "metadata": {},
   "outputs": [
    {
     "data": {
      "text/plain": [
       "65700"
      ]
     },
     "execution_count": 43,
     "metadata": {},
     "output_type": "execute_result"
    }
   ],
   "source": [
    "get_budgets([{'name': 'John', 'age': 21,'budget': 23000 },\n",
    "{ 'name': 'Steve', 'age': 32,'budget': 40000 },\n",
    "{ 'name': 'Martin','age': 16, 'budget': 2700 }])"
   ]
  },
  {
   "cell_type": "markdown",
   "id": "9a30df4d",
   "metadata": {},
   "source": [
    "## Question3\n",
    "Create a function that takes a string and returns a string with its letters in alphabetical order."
   ]
  },
  {
   "cell_type": "code",
   "execution_count": 50,
   "id": "9d1bef46",
   "metadata": {},
   "outputs": [],
   "source": [
    "def alphabet_soup(a):\n",
    "    return \"\".join(sorted(a))"
   ]
  },
  {
   "cell_type": "code",
   "execution_count": 51,
   "id": "471a4419",
   "metadata": {},
   "outputs": [
    {
     "data": {
      "text/plain": [
       "'ehllo'"
      ]
     },
     "execution_count": 51,
     "metadata": {},
     "output_type": "execute_result"
    }
   ],
   "source": [
    "alphabet_soup('hello')"
   ]
  },
  {
   "cell_type": "markdown",
   "id": "d1643f01",
   "metadata": {},
   "source": [
    "## Question4\n",
    "Suppose that you invest $10,000 for 10 years at an interest rate of 6% compounded monthly.\n",
    "What will be the value of your investment at the end of the 10 year period?\n",
    "Create a function that accepts the principal p, the term in years t, the interest rate r, and the\n",
    "number of compounding periods per year n. The function returns the value at the end of term\n",
    "rounded to the nearest cent."
   ]
  },
  {
   "cell_type": "code",
   "execution_count": 58,
   "id": "9eefc191",
   "metadata": {},
   "outputs": [],
   "source": [
    "def compound_interest(p,t,r,n):\n",
    "    interest = p*(1+(r/n))**(n*t)\n",
    "    return round(interest,2)"
   ]
  },
  {
   "cell_type": "code",
   "execution_count": 59,
   "id": "eb603eb7",
   "metadata": {},
   "outputs": [
    {
     "data": {
      "text/plain": [
       "18193.97"
      ]
     },
     "execution_count": 59,
     "metadata": {},
     "output_type": "execute_result"
    }
   ],
   "source": [
    "compound_interest(10000,10,0.06,12)"
   ]
  },
  {
   "cell_type": "markdown",
   "id": "af75f8ae",
   "metadata": {},
   "source": [
    "## Question5\n",
    "Write a function that takes a list of elements and returns only the integers."
   ]
  },
  {
   "cell_type": "code",
   "execution_count": 62,
   "id": "243d2bda",
   "metadata": {},
   "outputs": [],
   "source": [
    "def return_only_integer(l):\n",
    "    r = []\n",
    "    for i in l:\n",
    "        if  type(i) == int :\n",
    "            r.append(i)\n",
    "    return r        \n",
    "            "
   ]
  },
  {
   "cell_type": "code",
   "execution_count": 63,
   "id": "f7e00834",
   "metadata": {},
   "outputs": [
    {
     "data": {
      "text/plain": [
       "[3, 8, 3]"
      ]
     },
     "execution_count": 63,
     "metadata": {},
     "output_type": "execute_result"
    }
   ],
   "source": [
    "return_only_integer([3,'Rahul','Aditya',8,3])"
   ]
  },
  {
   "cell_type": "code",
   "execution_count": null,
   "id": "51d00f11",
   "metadata": {},
   "outputs": [],
   "source": []
  }
 ],
 "metadata": {
  "kernelspec": {
   "display_name": "Python 3 (ipykernel)",
   "language": "python",
   "name": "python3"
  },
  "language_info": {
   "codemirror_mode": {
    "name": "ipython",
    "version": 3
   },
   "file_extension": ".py",
   "mimetype": "text/x-python",
   "name": "python",
   "nbconvert_exporter": "python",
   "pygments_lexer": "ipython3",
   "version": "3.9.12"
  }
 },
 "nbformat": 4,
 "nbformat_minor": 5
}
