{
 "cells": [
  {
   "cell_type": "code",
   "execution_count": 1,
   "id": "17fbd36c",
   "metadata": {},
   "outputs": [],
   "source": [
    "#1.To what does a relative path refer ?\n",
    "# the path to some file with respect to your current working directory (PWD)."
   ]
  },
  {
   "cell_type": "code",
   "execution_count": 2,
   "id": "7a82a14b",
   "metadata": {},
   "outputs": [],
   "source": [
    "#2.Where does an absolute path start with your Operating System ?\n",
    "# In linux the absolute path starts with / whereas in Windows based systems absolute path starts with C:"
   ]
  },
  {
   "cell_type": "code",
   "execution_count": 3,
   "id": "d29656d1",
   "metadata": {},
   "outputs": [],
   "source": [
    "#3.What does the functions os.getcwd() and os.chdir() do ?\n",
    "# os.getcwd() method tells us the location of current working directory (CWD) whereas os.chdir() method in Python used to change the current working directory to specified path. "
   ]
  },
  {
   "cell_type": "code",
   "execution_count": 4,
   "id": "d6a67124",
   "metadata": {},
   "outputs": [],
   "source": [
    "#4.What are . and .. folders ?\n",
    "# . Represents the Current Directory Whereas .. Represents the Parent Directory of the Current Directory"
   ]
  },
  {
   "cell_type": "code",
   "execution_count": 5,
   "id": "e74df08b",
   "metadata": {},
   "outputs": [],
   "source": [
    "#5. In C:\\bacon\\eggs\\spam.txt which part is the dir name and which part is the base name ?\n",
    "#The dir name is C:\\\\bacon\\\\eggs.The Base name is spam.txt"
   ]
  },
  {
   "cell_type": "code",
   "execution_count": 6,
   "id": "882090a7",
   "metadata": {},
   "outputs": [],
   "source": [
    "#6. What are the three mode arguments that can be passed to the open() function ?\n",
    "#pen function takes two arguments filename and mode of operation (optional). if mode is not provided the default mode of opening is read mode"
   ]
  },
  {
   "cell_type": "code",
   "execution_count": 7,
   "id": "5d7e3d0d",
   "metadata": {},
   "outputs": [],
   "source": [
    "#7 What happens if an existing file is opened in write mode ?\n",
    "# Using this mode will overwrite any existing content in a file. If the given file does not exist, a new one will be created."
   ]
  },
  {
   "cell_type": "code",
   "execution_count": 8,
   "id": "b9b6b922",
   "metadata": {},
   "outputs": [],
   "source": [
    "#8 How do you tell the difference between read() and readlines() ?\n",
    "# The main difference is that read() will read the whole file at once and then print out the first characters that take up as many bytes as you specify in the parenthesis"
   ]
  },
  {
   "cell_type": "code",
   "execution_count": 9,
   "id": "28fbec5a",
   "metadata": {},
   "outputs": [],
   "source": [
    "#9 What data structure does a shelf value resemble ?\n",
    "#A shelf value resembles a dictionary value"
   ]
  },
  {
   "cell_type": "code",
   "execution_count": null,
   "id": "c65ee62c",
   "metadata": {},
   "outputs": [],
   "source": []
  }
 ],
 "metadata": {
  "kernelspec": {
   "display_name": "Python 3 (ipykernel)",
   "language": "python",
   "name": "python3"
  },
  "language_info": {
   "codemirror_mode": {
    "name": "ipython",
    "version": 3
   },
   "file_extension": ".py",
   "mimetype": "text/x-python",
   "name": "python",
   "nbconvert_exporter": "python",
   "pygments_lexer": "ipython3",
   "version": "3.9.12"
  }
 },
 "nbformat": 4,
 "nbformat_minor": 5
}
