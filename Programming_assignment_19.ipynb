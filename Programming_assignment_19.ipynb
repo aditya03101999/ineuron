{
 "cells": [
  {
   "cell_type": "code",
   "execution_count": 11,
   "id": "500dd2fe",
   "metadata": {},
   "outputs": [],
   "source": [
    "##Q1\n",
    "def double_char(s):\n",
    "    c = s\n",
    "    u = ''\n",
    "    for i in range(len(s)):\n",
    "        u = u + c[i] + s[i]\n",
    "    print(u)    "
   ]
  },
  {
   "cell_type": "code",
   "execution_count": 12,
   "id": "28ef4841",
   "metadata": {},
   "outputs": [
    {
     "name": "stdout",
     "output_type": "stream",
     "text": [
      "SSttrriinngg\n"
     ]
    }
   ],
   "source": [
    "double_char('String')"
   ]
  },
  {
   "cell_type": "code",
   "execution_count": 13,
   "id": "56ca1eae",
   "metadata": {},
   "outputs": [],
   "source": [
    "##Q2\n",
    "def reverse(boolean_value):\n",
    "    if boolean_value == True :\n",
    "        print(False)\n",
    "    elif boolean_value == False :\n",
    "        print(True)\n",
    "    else :\n",
    "        print('boolean_expected')\n",
    "        "
   ]
  },
  {
   "cell_type": "code",
   "execution_count": 15,
   "id": "3713ba31",
   "metadata": {},
   "outputs": [
    {
     "name": "stdout",
     "output_type": "stream",
     "text": [
      "False\n",
      "boolean_expected\n"
     ]
    }
   ],
   "source": [
    "reverse(True)\n",
    "reverse(None)"
   ]
  },
  {
   "cell_type": "code",
   "execution_count": 16,
   "id": "d375800e",
   "metadata": {},
   "outputs": [],
   "source": [
    "##Q3\n",
    "def num_layers(in_num):\n",
    "    out_num = 0.5\n",
    "    for ele in range(in_num):\n",
    "        out_num *= 2\n",
    "    print(f'Output ➞ {out_num/1000}m')\n",
    "    "
   ]
  },
  {
   "cell_type": "code",
   "execution_count": 17,
   "id": "0e40e444",
   "metadata": {},
   "outputs": [
    {
     "name": "stdout",
     "output_type": "stream",
     "text": [
      "Output ➞ 0.001m\n",
      "Output ➞ 0.008m\n",
      "Output ➞ 1048.576m\n"
     ]
    }
   ],
   "source": [
    "num_layers(1)\n",
    "num_layers(4)\n",
    "num_layers(21)"
   ]
  },
  {
   "cell_type": "code",
   "execution_count": 18,
   "id": "9b2ed439",
   "metadata": {},
   "outputs": [],
   "source": [
    "##Q4\n",
    "def index_of_caps(s):\n",
    "    up = s.upper()\n",
    "    index = []\n",
    "    for i in range(len(s)):\n",
    "        if s[i] in up:\n",
    "            index.append(i)\n",
    "    print(index)        "
   ]
  },
  {
   "cell_type": "code",
   "execution_count": 19,
   "id": "374fff4a",
   "metadata": {},
   "outputs": [
    {
     "name": "stdout",
     "output_type": "stream",
     "text": [
      "[1, 3, 5]\n"
     ]
    }
   ],
   "source": [
    "index_of_caps('eDaBiT')"
   ]
  },
  {
   "cell_type": "code",
   "execution_count": 20,
   "id": "b07b02e7",
   "metadata": {},
   "outputs": [],
   "source": [
    "##Q5\n",
    "def find_even_nums(n):\n",
    "    even = []\n",
    "    for i in range(1,n+1):\n",
    "        if i % 2 == 0:\n",
    "            even.append(i)\n",
    "    print(even)        \n",
    "            "
   ]
  },
  {
   "cell_type": "code",
   "execution_count": 22,
   "id": "c113d7dc",
   "metadata": {},
   "outputs": [
    {
     "name": "stdout",
     "output_type": "stream",
     "text": [
      "[2, 4, 6, 8]\n"
     ]
    }
   ],
   "source": [
    "find_even_nums(8)"
   ]
  },
  {
   "cell_type": "code",
   "execution_count": null,
   "id": "9bb51e88",
   "metadata": {},
   "outputs": [],
   "source": []
  }
 ],
 "metadata": {
  "kernelspec": {
   "display_name": "Python 3 (ipykernel)",
   "language": "python",
   "name": "python3"
  },
  "language_info": {
   "codemirror_mode": {
    "name": "ipython",
    "version": 3
   },
   "file_extension": ".py",
   "mimetype": "text/x-python",
   "name": "python",
   "nbconvert_exporter": "python",
   "pygments_lexer": "ipython3",
   "version": "3.9.12"
  }
 },
 "nbformat": 4,
 "nbformat_minor": 5
}
