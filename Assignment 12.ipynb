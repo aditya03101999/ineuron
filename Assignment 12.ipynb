{
 "cells": [
  {
   "cell_type": "code",
   "execution_count": 1,
   "id": "1cee1291",
   "metadata": {},
   "outputs": [],
   "source": [
    "#1. In what modes should the PdfFileReader() and PdfFileWriter() File objects will be opened?\n",
    "# PdfFileReader() file objects read binary mode and PdfFileWriter() open file in write binary mode."
   ]
  },
  {
   "cell_type": "code",
   "execution_count": 3,
   "id": "a3f7e968",
   "metadata": {},
   "outputs": [],
   "source": [
    "#2 From a PdfFileReader object, how do you get a Page object for page 5?\n",
    "# getPage(page_no) to get a page object\n"
   ]
  },
  {
   "cell_type": "code",
   "execution_count": 4,
   "id": "d0755c03",
   "metadata": {},
   "outputs": [],
   "source": [
    "#3 What PdfFileReader variable stores the number of pages in the PDF document?\n",
    "# getNumPages() stores the no pages in a PDF document"
   ]
  },
  {
   "cell_type": "code",
   "execution_count": 5,
   "id": "2345ea4a",
   "metadata": {},
   "outputs": [],
   "source": [
    "#4 If a PdfFileReader object’s PDF is encrypted with the password swordfish, what must you do before you can obtain Page objects from it?\n",
    "# first read the Pdf using the PdfFileReader Class. PdfFileReader class provides a attribute called isEncrypted to check whether a pdf is encrypted or not. the method returns true if a pdf is encrypted and vice versa. if pdf is encrypted use the decrypt() method provided by PdfFileReader class first then try to read the contents/pages of the pdf, else PyPDF2 will raise the following error PyPDF2.utils.PdfReadError: file has not been decrypted"
   ]
  },
  {
   "cell_type": "code",
   "execution_count": 6,
   "id": "cf6e0e1b",
   "metadata": {},
   "outputs": [],
   "source": [
    "#5 What methods do you use to rotate a page?\n",
    "# For clockwise rotation rotateClockWise() and for counter clockwise rotation rotateCounterClockWise()"
   ]
  },
  {
   "cell_type": "code",
   "execution_count": 7,
   "id": "fd357d50",
   "metadata": {},
   "outputs": [],
   "source": [
    "#6 What is the difference between a Run object and a Paragraph object?\n",
    "# Paragraph Object : A document contains multiple paragraphs. A paragraph begins on a new line and contains multiple runs. The Document object contains a list of Paragraph objects for the paragraphs in the document. (A new paragraph begins whenever the user presses ENTER or RETURN while typing in a Word document.)\n",
    "# Run Objects : Runs are contiguous groups of characters within a paragraph with the same style"
   ]
  },
  {
   "cell_type": "code",
   "execution_count": 9,
   "id": "86fbfea0",
   "metadata": {},
   "outputs": [],
   "source": [
    "#7 How do you obtain a list of Paragraph objects for a Document object that’s stored in a variable named doc?\n",
    "# from docx import Document\n",
    "#doc = Document(\"sample_file.docx\") # Path of the Docx file\n",
    "#print(doc.paragraphs) # Prints the list of Paragraph objects for a Document\n",
    "#for paragraph in doc.paragraphs:\n",
    "#    print(paragraph.text) # Prints the text in the paragraph"
   ]
  },
  {
   "cell_type": "code",
   "execution_count": 10,
   "id": "a0bc5734",
   "metadata": {},
   "outputs": [],
   "source": [
    "#8 What type of object has bold, underline, italic, strike, and outline variables?\n",
    "# A Run object has bold, underline,italic,strike and outline variables."
   ]
  },
  {
   "cell_type": "code",
   "execution_count": 11,
   "id": "7708ab58",
   "metadata": {},
   "outputs": [],
   "source": [
    "#9 What is the difference between False, True, and None for the bold variable?\n",
    "# bold = True  # Style Set to Bold\n",
    "#bold = False # Style Not Set to Bold\n",
    "#bold = None # Style is Not Applicable"
   ]
  },
  {
   "cell_type": "code",
   "execution_count": 13,
   "id": "b4e84e89",
   "metadata": {},
   "outputs": [],
   "source": [
    "#10 How do you create a Document object for a new Word document?\n",
    "# By Calling the docx.Document() function"
   ]
  },
  {
   "cell_type": "code",
   "execution_count": 17,
   "id": "a2830f00",
   "metadata": {},
   "outputs": [
    {
     "name": "stdout",
     "output_type": "stream",
     "text": [
      "^C\n",
      "Note: you may need to restart the kernel to use updated packages.\n"
     ]
    }
   ],
   "source": [
    "pip install python-docx"
   ]
  },
  {
   "cell_type": "code",
   "execution_count": 20,
   "id": "33645d95",
   "metadata": {},
   "outputs": [],
   "source": [
    "#11  How do you add a paragraph with the text 'Hello, there!' to a Document object stored in a variable named doc?\n",
    "import docx as dx\n",
    "doc = dx.Document()\n",
    "\n",
    "doc.add_paragraph('Hello there!')\n",
    "doc.save('hellothere.docx')"
   ]
  },
  {
   "cell_type": "code",
   "execution_count": 21,
   "id": "800c253e",
   "metadata": {},
   "outputs": [],
   "source": [
    "#12 What integers represent the levels of headings available in Word documents?\n",
    "# integer from 0 to 4\n",
    "#The arguments to add_heading() are a string of the heading text and an integer from 0 to 4. The integer 0 makes the heading the Title style, which is used for the top of the document. Integers 1 to 4 are for various heading levels, with 1 being the main heading and 4 the lowest subheading"
   ]
  },
  {
   "cell_type": "code",
   "execution_count": null,
   "id": "0c10d271",
   "metadata": {},
   "outputs": [],
   "source": []
  },
  {
   "cell_type": "code",
   "execution_count": null,
   "id": "09cb8cba",
   "metadata": {},
   "outputs": [],
   "source": []
  }
 ],
 "metadata": {
  "kernelspec": {
   "display_name": "Python 3 (ipykernel)",
   "language": "python",
   "name": "python3"
  },
  "language_info": {
   "codemirror_mode": {
    "name": "ipython",
    "version": 3
   },
   "file_extension": ".py",
   "mimetype": "text/x-python",
   "name": "python",
   "nbconvert_exporter": "python",
   "pygments_lexer": "ipython3",
   "version": "3.9.12"
  }
 },
 "nbformat": 4,
 "nbformat_minor": 5
}
