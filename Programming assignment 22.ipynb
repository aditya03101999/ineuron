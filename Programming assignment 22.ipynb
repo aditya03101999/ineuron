{
 "cells": [
  {
   "cell_type": "markdown",
   "id": "180eaef0",
   "metadata": {},
   "source": [
    "## Question1\n",
    "Create a function that takes three parameters where:\n",
    " x is the start of the range (inclusive).\n",
    " y is the end of the range (inclusive).\n",
    " n is the divisor to be checked against.\n",
    "Return an ordered list with numbers in the range that are divisible by the third parameter n.\n",
    "Return an empty list if there are no numbers that are divisible by n."
   ]
  },
  {
   "cell_type": "code",
   "execution_count": 1,
   "id": "7c96469f",
   "metadata": {},
   "outputs": [],
   "source": [
    "\n",
    "def list_operation(x,y,n):\n",
    "    l = []\n",
    "    for i in range(x,y):\n",
    "        if i % n == 0:\n",
    "            l.append(i)\n",
    "    return l         "
   ]
  },
  {
   "cell_type": "code",
   "execution_count": 2,
   "id": "00b0e833",
   "metadata": {},
   "outputs": [
    {
     "data": {
      "text/plain": [
       "[3, 6, 9]"
      ]
     },
     "execution_count": 2,
     "metadata": {},
     "output_type": "execute_result"
    }
   ],
   "source": [
    "list_operation(1,10,3)"
   ]
  },
  {
   "cell_type": "markdown",
   "id": "de5acd66",
   "metadata": {},
   "source": [
    "## Question2\n",
    "Create a function that takes in two lists and returns True if the second list follows the first list\n",
    "by one element, and False otherwise. In other words, determine if the second list is the first\n",
    "list shifted to the right by 1."
   ]
  },
  {
   "cell_type": "code",
   "execution_count": 3,
   "id": "696420ce",
   "metadata": {},
   "outputs": [],
   "source": [
    "def simon_says(list_1,list_2):\n",
    "    if len(list_1) == len(list_2) and len(list_1) >=2:\n",
    "        if(list_1[:-1] == list_2[1:]):\n",
    "            print(f'{list_1,list_2} ➞ {True}')\n",
    "        else:\n",
    "            print(f'{list_1,list_2} ➞ {False}')"
   ]
  },
  {
   "cell_type": "code",
   "execution_count": 4,
   "id": "82cca676",
   "metadata": {},
   "outputs": [
    {
     "name": "stdout",
     "output_type": "stream",
     "text": [
      "([1, 2], [5, 1]) ➞ True\n"
     ]
    }
   ],
   "source": [
    "simon_says([1, 2], [5, 1])"
   ]
  },
  {
   "cell_type": "markdown",
   "id": "05f7a0e1",
   "metadata": {},
   "source": [
    "## Question3\n",
    "A group of friends have decided to start a secret society. The name will be the first letter of\n",
    "each of their names, sorted in alphabetical order.\n",
    "Create a function that takes in a list of names and returns the name of the secret society."
   ]
  },
  {
   "cell_type": "code",
   "execution_count": 5,
   "id": "a75a88ba",
   "metadata": {},
   "outputs": [],
   "source": [
    "def society_name(l):\n",
    "    n = []\n",
    "    for i in l:\n",
    "        n.append(i[0])\n",
    "    n = sorted(n)\n",
    "    return \"\".join(n)"
   ]
  },
  {
   "cell_type": "code",
   "execution_count": 6,
   "id": "720ac425",
   "metadata": {},
   "outputs": [
    {
     "data": {
      "text/plain": [
       "'AMS'"
      ]
     },
     "execution_count": 6,
     "metadata": {},
     "output_type": "execute_result"
    }
   ],
   "source": [
    "society_name([\"Adam\", \"Sarah\", \"Malcolm\"])"
   ]
  },
  {
   "cell_type": "markdown",
   "id": "598ed2f3",
   "metadata": {},
   "source": [
    "## Question4\n",
    "An isogram is a word that has no duplicate letters. Create a function that takes a string and\n",
    "returns either True or False depending on whether or not it's an isogram."
   ]
  },
  {
   "cell_type": "code",
   "execution_count": 10,
   "id": "e1dd1fd1",
   "metadata": {},
   "outputs": [],
   "source": [
    "def is_isogram(s):\n",
    "    s = s.lower()\n",
    "    l = []\n",
    "    for i in s:\n",
    "        if i not in l:\n",
    "            l.append(i)\n",
    "        else:\n",
    "            return False\n",
    "    if len(l) == len(s):\n",
    "        return True\n",
    "        \n",
    "       \n",
    "    "
   ]
  },
  {
   "cell_type": "code",
   "execution_count": 12,
   "id": "fe42a54d",
   "metadata": {},
   "outputs": [
    {
     "data": {
      "text/plain": [
       "False"
      ]
     },
     "execution_count": 12,
     "metadata": {},
     "output_type": "execute_result"
    }
   ],
   "source": [
    "is_isogram(\"PasSword\")"
   ]
  },
  {
   "cell_type": "markdown",
   "id": "f5574348",
   "metadata": {},
   "source": [
    "## Question5\n",
    "Create a function that takes a string and returns True or False, depending on whether the\n",
    "characters are in order or not."
   ]
  },
  {
   "cell_type": "code",
   "execution_count": 14,
   "id": "e82eb8cd",
   "metadata": {},
   "outputs": [],
   "source": [
    "def is_in_order(l):\n",
    "    if l == sorted(l):\n",
    "        return True\n",
    "    else :\n",
    "        return False\n",
    "    "
   ]
  },
  {
   "cell_type": "code",
   "execution_count": 15,
   "id": "dedc4362",
   "metadata": {},
   "outputs": [
    {
     "data": {
      "text/plain": [
       "False"
      ]
     },
     "execution_count": 15,
     "metadata": {},
     "output_type": "execute_result"
    }
   ],
   "source": [
    "is_in_order(\"edabit\")"
   ]
  },
  {
   "cell_type": "code",
   "execution_count": null,
   "id": "4a6c2d36",
   "metadata": {},
   "outputs": [],
   "source": []
  }
 ],
 "metadata": {
  "kernelspec": {
   "display_name": "Python 3 (ipykernel)",
   "language": "python",
   "name": "python3"
  },
  "language_info": {
   "codemirror_mode": {
    "name": "ipython",
    "version": 3
   },
   "file_extension": ".py",
   "mimetype": "text/x-python",
   "name": "python",
   "nbconvert_exporter": "python",
   "pygments_lexer": "ipython3",
   "version": "3.9.12"
  }
 },
 "nbformat": 4,
 "nbformat_minor": 5
}
