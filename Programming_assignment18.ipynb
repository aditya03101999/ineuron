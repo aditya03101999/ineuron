{
 "cells": [
  {
   "cell_type": "code",
   "execution_count": 1,
   "id": "52a79178",
   "metadata": {},
   "outputs": [],
   "source": [
    "##Q1\n",
    "\n",
    "def filter_list(l):\n",
    "    new_list = []\n",
    "    for i in l :\n",
    "        if type(i) != str :\n",
    "            new_list.append(i)\n",
    "    return new_list        "
   ]
  },
  {
   "cell_type": "code",
   "execution_count": 2,
   "id": "c0ce8943",
   "metadata": {},
   "outputs": [
    {
     "data": {
      "text/plain": [
       "[1, 2]"
      ]
     },
     "execution_count": 2,
     "metadata": {},
     "output_type": "execute_result"
    }
   ],
   "source": [
    "filter_list([1, 2,'a','b'])"
   ]
  },
  {
   "cell_type": "code",
   "execution_count": 3,
   "id": "13f71e86",
   "metadata": {},
   "outputs": [
    {
     "data": {
      "text/plain": [
       "[1, 2, 123]"
      ]
     },
     "execution_count": 3,
     "metadata": {},
     "output_type": "execute_result"
    }
   ],
   "source": [
    "filter_list([1, 2,'aasf', '1','123', 123])"
   ]
  },
  {
   "cell_type": "code",
   "execution_count": 18,
   "id": "bb2d6c31",
   "metadata": {},
   "outputs": [],
   "source": [
    "##Q2\n",
    "def reverse(s):\n",
    "    up = s.upper()\n",
    "    low = s.lower()\n",
    "    for i in range(len(s)):\n",
    "        if s[i] == up[i]:\n",
    "            s = s.replace(s[i],low[i])\n",
    "        else :\n",
    "            s = s.replace(s[i],up[i])\n",
    "    print(s[::-1])        "
   ]
  },
  {
   "cell_type": "code",
   "execution_count": 19,
   "id": "40d1c4e6",
   "metadata": {},
   "outputs": [
    {
     "name": "stdout",
     "output_type": "stream",
     "text": [
      "DLRow oLLEh\n"
     ]
    }
   ],
   "source": [
    "reverse('Hello World')"
   ]
  },
  {
   "cell_type": "code",
   "execution_count": 21,
   "id": "02275b3e",
   "metadata": {},
   "outputs": [
    {
     "name": "stdout",
     "output_type": "stream",
     "text": [
      "1\n",
      "[2, 3, 4, 5]\n",
      "6\n"
     ]
    }
   ],
   "source": [
    "##Q3\n",
    "lst = [1, 2, 3, 4, 5, 6]\n",
    "first = lst[0]\n",
    "middle = lst[1:-1]\n",
    "last = lst[-1]\n",
    "\n",
    "print(first)\n",
    "print(middle)\n",
    "print(last)"
   ]
  },
  {
   "cell_type": "code",
   "execution_count": 23,
   "id": "7a8e2ad2",
   "metadata": {},
   "outputs": [],
   "source": [
    "##Q4\n",
    "def factorial(n):\n",
    "    ans = 1\n",
    "    for i in range(1,n+1):\n",
    "        ans = ans * i\n",
    "    print (ans)    \n"
   ]
  },
  {
   "cell_type": "code",
   "execution_count": 24,
   "id": "59d998e0",
   "metadata": {},
   "outputs": [
    {
     "name": "stdout",
     "output_type": "stream",
     "text": [
      "120\n"
     ]
    }
   ],
   "source": [
    "factorial(5)"
   ]
  },
  {
   "cell_type": "code",
   "execution_count": 55,
   "id": "9825f183",
   "metadata": {},
   "outputs": [],
   "source": [
    "##Q5\n",
    "def move_to_end(series,term):\n",
    "    end_term = []\n",
    "    new_series = []\n",
    "    for i in series:\n",
    "        if i == term:\n",
    "            end_term.append(i)\n",
    "        else :\n",
    "            new_series.append(i)\n",
    "    new_series.extend(end_term)        \n",
    "    print(new_series)       "
   ]
  },
  {
   "cell_type": "code",
   "execution_count": 56,
   "id": "55abba05",
   "metadata": {},
   "outputs": [
    {
     "name": "stdout",
     "output_type": "stream",
     "text": [
      "[3, 2, 4, 4, 1, 1]\n"
     ]
    }
   ],
   "source": [
    "move_to_end([1,3,2,4,4,1],1)"
   ]
  },
  {
   "cell_type": "code",
   "execution_count": null,
   "id": "11cdd04d",
   "metadata": {},
   "outputs": [],
   "source": []
  }
 ],
 "metadata": {
  "kernelspec": {
   "display_name": "Python 3 (ipykernel)",
   "language": "python",
   "name": "python3"
  },
  "language_info": {
   "codemirror_mode": {
    "name": "ipython",
    "version": 3
   },
   "file_extension": ".py",
   "mimetype": "text/x-python",
   "name": "python",
   "nbconvert_exporter": "python",
   "pygments_lexer": "ipython3",
   "version": "3.9.12"
  }
 },
 "nbformat": 4,
 "nbformat_minor": 5
}
