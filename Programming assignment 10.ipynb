{
 "cells": [
  {
   "cell_type": "code",
   "execution_count": 2,
   "id": "693cf909",
   "metadata": {},
   "outputs": [
    {
     "name": "stdout",
     "output_type": "stream",
     "text": [
      "Enter the No of Entries in a List: 4\n",
      "Enter a number: 2\n",
      "Enter a number: 3\n",
      "Enter a number: 7\n",
      "Enter a number: 4\n",
      "Sum of Elements: 16\n"
     ]
    }
   ],
   "source": [
    "# 1. Write a Python program to find sum of elements in list?\n",
    "def Listsum():\n",
    "    elements = int(input('Enter the No of Entries in a List: '))\n",
    "    l = []\n",
    "    for i in range(elements):\n",
    "        l.append(int(input('Enter a number: ')))\n",
    "    print(f'Sum of Elements: {sum(l)}')\n",
    "\n",
    "Listsum()"
   ]
  },
  {
   "cell_type": "code",
   "execution_count": 3,
   "id": "f00e79df",
   "metadata": {},
   "outputs": [
    {
     "name": "stdout",
     "output_type": "stream",
     "text": [
      "Enter the No of Entries in a List: 4\n",
      "Enter a number: 1\n",
      "Enter a number: 2\n",
      "Enter a number: 6\n",
      "Enter a number: 5\n",
      "Product of Elements: 60\n"
     ]
    }
   ],
   "source": [
    "# 2. Write a Python program to Multiply all numbers in the list?\n",
    "def listmultiplication():\n",
    "    elements = int(input('Enter the No of Entries in a List: '))\n",
    "    l = []\n",
    "    for i in range(elements):\n",
    "        l.append(int(input('Enter a number: ')))\n",
    "    k = 1\n",
    "    for j in l:\n",
    "        k = k * j\n",
    "    print(f'Product of Elements: {k}')  \n",
    "    \n",
    "listmultiplication()    "
   ]
  },
  {
   "cell_type": "code",
   "execution_count": 9,
   "id": "e46f05be",
   "metadata": {},
   "outputs": [
    {
     "name": "stdout",
     "output_type": "stream",
     "text": [
      "Enter the No of Entries in a List: 4\n",
      "Enter a number: 3 \n",
      "Enter a number: 5\n",
      "Enter a number: 7\n",
      "Enter a number: 1\n",
      "smallest number in the list is 1\n"
     ]
    }
   ],
   "source": [
    "# 3. Write a Python program to find smallest number in a list?\n",
    "def listsmall():\n",
    "    elements = int(input('Enter the No of Entries in a List: '))\n",
    "    l = []\n",
    "    for i in range(elements):\n",
    "        l.append(int(input('Enter a number: ')))\n",
    "    print(f'smallest number in the list is {sorted(l)[0]}')   \n",
    "listsmall()"
   ]
  },
  {
   "cell_type": "code",
   "execution_count": 10,
   "id": "2ccfaf02",
   "metadata": {},
   "outputs": [
    {
     "name": "stdout",
     "output_type": "stream",
     "text": [
      "Enter the No of Entries in a List: 4\n",
      "Enter a number: 56\n",
      "Enter a number: 78\n",
      "Enter a number: 23\n",
      "Enter a number: 34\n",
      "largest number in the list is 78\n"
     ]
    }
   ],
   "source": [
    "#4. Write a Python program to find largest number in a list?\n",
    "def listlargest():\n",
    "    elements = int(input('Enter the No of Entries in a List: '))\n",
    "    l = []\n",
    "    for i in range(elements):\n",
    "        l.append(int(input('Enter a number: ')))\n",
    "    print(f'largest number in the list is {sorted(l,reverse=True)[0]}')   \n",
    "listlargest()"
   ]
  },
  {
   "cell_type": "code",
   "execution_count": 11,
   "id": "3cb8af53",
   "metadata": {},
   "outputs": [
    {
     "name": "stdout",
     "output_type": "stream",
     "text": [
      "Enter the No of Entries in a List: 3\n",
      "Enter a number: 67\n",
      "Enter a number: 87\n",
      "Enter a number: 12\n",
      "second largest number in the list is 67\n"
     ]
    }
   ],
   "source": [
    "#5. Write a Python program to find second largest number in a list?\n",
    "def largest():\n",
    "    elements = int(input('Enter the No of Entries in a List: '))\n",
    "    l = []\n",
    "    for i in range(elements):\n",
    "        l.append(int(input('Enter a number: ')))\n",
    "    print(f'second largest number in the list is {sorted(l,reverse=True)[1]}')   \n",
    "largest()"
   ]
  },
  {
   "cell_type": "code",
   "execution_count": 14,
   "id": "de2453bd",
   "metadata": {},
   "outputs": [
    {
     "name": "stdout",
     "output_type": "stream",
     "text": [
      "Enter the No of Entries in a List: 4\n",
      "Enter a number: 45\n",
      "Enter a number: 67\n",
      "Enter a number: 34\n",
      "Enter a number: 68\n",
      "Enter the number of largest numbers to see:  2\n",
      "2 largest numbers are [68, 67]\n"
     ]
    }
   ],
   "source": [
    "#6. Write a Python program to find N largest elements from a list?\n",
    "def large():\n",
    "    elements = int(input('Enter the No of Entries in a List: '))\n",
    "    l = []\n",
    "    for i in range(elements):\n",
    "        l.append(int(input('Enter a number: ')))\n",
    "    m = int(input('Enter the number of largest numbers to see:  '))    \n",
    "    h=[]    \n",
    "    for j in range(m):\n",
    "        h.append(sorted(l,reverse=True)[j])\n",
    "    print(f'{m} largest numbers are {h}')\n",
    "    \n",
    "large()    \n",
    "        "
   ]
  },
  {
   "cell_type": "code",
   "execution_count": 15,
   "id": "66493226",
   "metadata": {},
   "outputs": [
    {
     "name": "stdout",
     "output_type": "stream",
     "text": [
      "[12, 14, 16, 18, 20]\n"
     ]
    }
   ],
   "source": [
    "# 7. Write a Python program to print even numbers in a list?\n",
    "def even(start,end):\n",
    "    l = []\n",
    "    for i in range(start,end+1):\n",
    "        if i % 2 == 0:\n",
    "            l.append(i)\n",
    "    print(l)\n",
    "    \n",
    "even(11,20)    "
   ]
  },
  {
   "cell_type": "code",
   "execution_count": 17,
   "id": "37bcdeed",
   "metadata": {},
   "outputs": [
    {
     "name": "stdout",
     "output_type": "stream",
     "text": [
      "[11, 13, 15, 17, 19]\n"
     ]
    }
   ],
   "source": [
    "# 8. Write a Python program to print odd numbers in a List?\n",
    "def odd(start,end):\n",
    "    l = []\n",
    "    for i in range(start,end+1):\n",
    "        if i % 2 != 0:\n",
    "            l.append(i)\n",
    "    print(l)\n",
    "    \n",
    "odd(11,20)    "
   ]
  },
  {
   "cell_type": "code",
   "execution_count": 18,
   "id": "3d3302f9",
   "metadata": {},
   "outputs": [
    {
     "name": "stdout",
     "output_type": "stream",
     "text": [
      "Enter all elements of the list: [1,2,3,4,5,[],6,7,8,9,0]\n",
      "There is an Empty list in [1, 2, 3, 4, 5, [], 6, 7, 8, 9, 0] at Position 5\n",
      "The List after removing [] is [1, 2, 3, 4, 5, 6, 7, 8, 9, 0]\n"
     ]
    }
   ],
   "source": [
    "# 9. Write a Python program to Remove empty List from List?\n",
    "def removeEmptyList():\n",
    "    List = eval(input('Enter all elements of the list: '))\n",
    "    if [] in List:\n",
    "        print(f'There is an Empty list in {List} at Position {List.index([])}')\n",
    "        List.remove([])\n",
    "        print(f'The List after removing [] is {List}')\n",
    "    else:\n",
    "        print(f'There is no [] List in the list {List}')\n",
    "        \n",
    "removeEmptyList()"
   ]
  },
  {
   "cell_type": "code",
   "execution_count": 20,
   "id": "f90b7221",
   "metadata": {},
   "outputs": [
    {
     "name": "stdout",
     "output_type": "stream",
     "text": [
      "Enter a list[5,6,3,56,4]\n",
      "[5, 6, 3, 56, 4] 1474103973312\n",
      "[5, 6, 3, 56, 4] 1474104154240\n"
     ]
    }
   ],
   "source": [
    "# 10. Write a Python program to Cloning or Copying a list?\n",
    "import copy\n",
    "\n",
    "def cloneList():\n",
    "    in_list = eval(input('Enter a list'))\n",
    "    print(in_list, id(in_list))\n",
    "    cloned_list = in_list.copy()\n",
    "    print(cloned_list, id(cloned_list))\n",
    "\n",
    "cloneList()\n"
   ]
  },
  {
   "cell_type": "code",
   "execution_count": null,
   "id": "14666283",
   "metadata": {},
   "outputs": [],
   "source": [
    "# 11. Write a Python program to Count occurrences of an element in a list?\n"
   ]
  }
 ],
 "metadata": {
  "kernelspec": {
   "display_name": "Python 3 (ipykernel)",
   "language": "python",
   "name": "python3"
  },
  "language_info": {
   "codemirror_mode": {
    "name": "ipython",
    "version": 3
   },
   "file_extension": ".py",
   "mimetype": "text/x-python",
   "name": "python",
   "nbconvert_exporter": "python",
   "pygments_lexer": "ipython3",
   "version": "3.9.12"
  }
 },
 "nbformat": 4,
 "nbformat_minor": 5
}
