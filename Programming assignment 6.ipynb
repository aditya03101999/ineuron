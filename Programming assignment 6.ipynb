{
 "cells": [
  {
   "cell_type": "code",
   "execution_count": 2,
   "id": "cdb82039",
   "metadata": {},
   "outputs": [
    {
     "name": "stdout",
     "output_type": "stream",
     "text": [
      "the length of Series: 4\n",
      "0, 1, 3, 5, 8, 13, "
     ]
    }
   ],
   "source": [
    "# 1. Write a Python Program to Display Fibonacci Sequence Using Recursion?\n",
    "def Fibonacci(n,a,b):\n",
    "    if n == 0:\n",
    "        return 1\n",
    "    else:\n",
    "        result = a+b\n",
    "        print(result, end=', ')\n",
    "        Fibonacci(n-1,b,result)\n",
    "in_num = int(input('the length of Series: '))\n",
    "print('0, 1',end=', ')\n",
    "Fibonacci(in_num,1,2)"
   ]
  },
  {
   "cell_type": "code",
   "execution_count": 5,
   "id": "2128661c",
   "metadata": {},
   "outputs": [
    {
     "name": "stdout",
     "output_type": "stream",
     "text": [
      "Enter number: 5\n",
      "Factorial of the number is 120\n"
     ]
    }
   ],
   "source": [
    "# 2. Write a Python Program to Find Factorial of Number Using Recursion?\n",
    "def factorial(a,b):\n",
    "    if b == 1:\n",
    "        print(f'Factorial of the number is {a}')\n",
    "    else:           \n",
    "        c=a*b\n",
    "        b = b-1\n",
    "        factorial(c,b)\n",
    "    \n",
    "    \n",
    "a = int(input(\"Enter number: \"))\n",
    "b = a-1\n",
    "factorial(a,b)"
   ]
  },
  {
   "cell_type": "code",
   "execution_count": 7,
   "id": "440498ce",
   "metadata": {},
   "outputs": [
    {
     "name": "stdout",
     "output_type": "stream",
     "text": [
      "Enter your Weight(kgs): 62\n",
      "Enter your Height(mts): 1.80\n",
      "Your're BMI is 19.1358024691358 and status is Healthy \n"
     ]
    }
   ],
   "source": [
    "# 3. Write a Python Program to calculate your Body Mass Index?\n",
    "def BMIcalculator():\n",
    "    weight = eval(input('Enter your Weight(kgs): '))\n",
    "    height = eval(input('Enter your Height(mts): '))\n",
    "    bmi = weight/pow(height,2)\n",
    "    if (bmi < 18.5):\n",
    "        status = 'Under weight'\n",
    "    elif (bmi >= 18.5 and bmi < 24.9):\n",
    "        status = 'Healthy'\n",
    "    elif (bmi >= 24.9 and bmi < 30):\n",
    "        status = 'Over weight'\n",
    "    elif (bmi >=30):\n",
    "        status = 'Suffering from Obesity'\n",
    "    print(f'Your\\'re BMI is {bmi} and status is {status} ')\n",
    "BMIcalculator()"
   ]
  },
  {
   "cell_type": "code",
   "execution_count": 8,
   "id": "60cb1ad4",
   "metadata": {},
   "outputs": [
    {
     "name": "stdout",
     "output_type": "stream",
     "text": [
      "Enter a Number:5\n",
      "1.6094379124341003\n"
     ]
    }
   ],
   "source": [
    "# 4. Write a Python Program to calculate the natural logarithm of any number?\n",
    "import math\n",
    "def Log():\n",
    "    number = eval(input(\"Enter a Number:\"))\n",
    "    print(math.log(number))\n",
    "\n",
    "Log()"
   ]
  },
  {
   "cell_type": "code",
   "execution_count": 27,
   "id": "27179dd3",
   "metadata": {},
   "outputs": [
    {
     "data": {
      "text/plain": [
       "36"
      ]
     },
     "execution_count": 27,
     "metadata": {},
     "output_type": "execute_result"
    }
   ],
   "source": [
    "# 5. Write a Python Program for cube sum of first n natural numbers?\n",
    "def cubesum(a):\n",
    "    result = 0\n",
    "    for i in range(1,a+1):\n",
    "        cube = pow(i,3)\n",
    "        result = result+cube\n",
    "    return result    \n",
    "       \n",
    "        \n",
    "cubesum(3)    "
   ]
  },
  {
   "cell_type": "code",
   "execution_count": null,
   "id": "eb8fd6ab",
   "metadata": {},
   "outputs": [],
   "source": []
  }
 ],
 "metadata": {
  "kernelspec": {
   "display_name": "Python 3 (ipykernel)",
   "language": "python",
   "name": "python3"
  },
  "language_info": {
   "codemirror_mode": {
    "name": "ipython",
    "version": 3
   },
   "file_extension": ".py",
   "mimetype": "text/x-python",
   "name": "python",
   "nbconvert_exporter": "python",
   "pygments_lexer": "ipython3",
   "version": "3.9.12"
  }
 },
 "nbformat": 4,
 "nbformat_minor": 5
}
