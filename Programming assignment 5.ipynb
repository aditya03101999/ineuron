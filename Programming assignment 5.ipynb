{
 "cells": [
  {
   "cell_type": "code",
   "execution_count": 1,
   "id": "39592c28",
   "metadata": {},
   "outputs": [
    {
     "data": {
      "text/plain": [
       "28"
      ]
     },
     "execution_count": 1,
     "metadata": {},
     "output_type": "execute_result"
    }
   ],
   "source": [
    "# 1. Write a Python Program to Find LCM?\n",
    "def lcm(a, b):    \n",
    "    if a > b:  \n",
    "        greater = a \n",
    "    else:  \n",
    "        greater = b  \n",
    "    while(True):  \n",
    "        if((greater % a == 0) and (greater % b == 0)):  \n",
    "            result = greater  \n",
    "            break  \n",
    "        greater += 1  \n",
    "    return result\n",
    "lcm(4,7)"
   ]
  },
  {
   "cell_type": "code",
   "execution_count": 8,
   "id": "da03a5c9",
   "metadata": {},
   "outputs": [
    {
     "data": {
      "text/plain": [
       "5"
      ]
     },
     "execution_count": 8,
     "metadata": {},
     "output_type": "execute_result"
    }
   ],
   "source": [
    "# 2. Write a Python Program to Find HCF?\n",
    "def hcf(a,b):\n",
    "    if a < b:  \n",
    "        smaller = a \n",
    "    else:  \n",
    "        smaller = b\n",
    "    for i in range(2,smaller+1):\n",
    "        if ((a % i == 0) and (b % i == 0)): \n",
    "            result = i\n",
    "            break\n",
    "    return result\n",
    "hcf(15,20)"
   ]
  },
  {
   "cell_type": "code",
   "execution_count": 10,
   "id": "0258dd6f",
   "metadata": {},
   "outputs": [
    {
     "data": {
      "text/plain": [
       "'0o304'"
      ]
     },
     "execution_count": 10,
     "metadata": {},
     "output_type": "execute_result"
    }
   ],
   "source": [
    "# 3. Write a Python Program to Convert Decimal to Binary, Octal and Hexadecimal?\n",
    "def convert(num,type):\n",
    "    num = int(num)\n",
    "    if type == 'Binary':\n",
    "        result=bin(num)\n",
    "    elif type == 'Octal':\n",
    "        result = oct(num)\n",
    "    elif type =='Hexadecimal':\n",
    "        result = hex(num)\n",
    "    else:\n",
    "        result = \"type correct function\"\n",
    "    return result\n",
    "\n",
    "convert(196,'Octal')"
   ]
  },
  {
   "cell_type": "code",
   "execution_count": 13,
   "id": "5f17fdcc",
   "metadata": {},
   "outputs": [
    {
     "name": "stdout",
     "output_type": "stream",
     "text": [
      "113\n"
     ]
    }
   ],
   "source": [
    "# 4 Write a Python Program To Find ASCII value of a character?\n",
    "def ascii(x):\n",
    "    print(ord(x))\n",
    "    \n",
    "ascii('q')    "
   ]
  },
  {
   "cell_type": "code",
   "execution_count": 17,
   "id": "9eb7f674",
   "metadata": {},
   "outputs": [
    {
     "data": {
      "text/plain": [
       "648"
      ]
     },
     "execution_count": 17,
     "metadata": {},
     "output_type": "execute_result"
    }
   ],
   "source": [
    "# 5 Write a Python Program to Make a Simple Calculator with 4 basic mathematical operations?\n",
    "def calculator(a,b,function):\n",
    "    if function == 'add':\n",
    "        answer = a+b\n",
    "    elif function == 'multiply':\n",
    "        answer = a*b\n",
    "    elif function == 'division':\n",
    "        answer = a/b\n",
    "    elif function == 'subtract':\n",
    "        answer = a-b\n",
    "    else :\n",
    "        answer = 'Type correct function'\n",
    "    return answer\n",
    "\n",
    "calculator(72,9,'multiply')    "
   ]
  },
  {
   "cell_type": "code",
   "execution_count": null,
   "id": "1bd3095a",
   "metadata": {},
   "outputs": [],
   "source": []
  }
 ],
 "metadata": {
  "kernelspec": {
   "display_name": "Python 3 (ipykernel)",
   "language": "python",
   "name": "python3"
  },
  "language_info": {
   "codemirror_mode": {
    "name": "ipython",
    "version": 3
   },
   "file_extension": ".py",
   "mimetype": "text/x-python",
   "name": "python",
   "nbconvert_exporter": "python",
   "pygments_lexer": "ipython3",
   "version": "3.9.12"
  }
 },
 "nbformat": 4,
 "nbformat_minor": 5
}
