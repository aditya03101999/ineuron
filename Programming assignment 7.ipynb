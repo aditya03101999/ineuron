{
 "cells": [
  {
   "cell_type": "code",
   "execution_count": 2,
   "id": "fdb0e885",
   "metadata": {},
   "outputs": [
    {
     "name": "stdout",
     "output_type": "stream",
     "text": [
      "Enter the Array: 1,2,3\n",
      "The sum of (1, 2, 3) is 6\n"
     ]
    }
   ],
   "source": [
    "#1. Write a Python Program to find sum of array?\n",
    "def Arraysum():\n",
    "    array = eval(input(\"Enter the Array: \"))\n",
    "    print(f'The sum of  array {array} is {sum(array)}')\n",
    "\n",
    "Arraysum()"
   ]
  },
  {
   "cell_type": "code",
   "execution_count": 5,
   "id": "f2ef1a97",
   "metadata": {},
   "outputs": [
    {
     "name": "stdout",
     "output_type": "stream",
     "text": [
      "Enter the array: 4,5,3\n",
      "the largest number is 5\n"
     ]
    }
   ],
   "source": [
    "# 2. Write a Python Program to find largest element in an array?\n",
    "def largest():\n",
    "    arr = eval(input('Enter the array: '))\n",
    "    print(f'the largest number is {sorted(arr,reverse=True)[0]}')\n",
    "  \n",
    "largest()"
   ]
  },
  {
   "cell_type": "code",
   "execution_count": 7,
   "id": "4a44d63e",
   "metadata": {},
   "outputs": [
    {
     "name": "stdout",
     "output_type": "stream",
     "text": [
      "Enter the array: 4,9,3,5\n",
      "reverse of array is (5, 3, 9, 4)\n"
     ]
    }
   ],
   "source": [
    "# 3. Write a Python Program for array rotation?\n",
    "def rotation():\n",
    "    array = eval(input('Enter the array: '))\n",
    "    print(f'reverse of array is {array[::-1]}')\n",
    "rotation()    "
   ]
  },
  {
   "cell_type": "code",
   "execution_count": 8,
   "id": "cbb09e8d",
   "metadata": {},
   "outputs": [
    {
     "name": "stdout",
     "output_type": "stream",
     "text": [
      "Enter the Array: 5,1,33,34,6\n",
      "The Sum of First and Last Elements of Array (5, 1, 33, 34, 6) is 11\n"
     ]
    }
   ],
   "source": [
    "# 4. Write a Python Program to Split the array and add the first part to the end?\n",
    "def Splits():\n",
    "    arr = eval(input(\"Enter the Array: \"))\n",
    "    print(f\"The Sum of First and Last Elements of Array {arr} is {arr[0]+arr[-1]}\")\n",
    "    \n",
    "Splits()"
   ]
  },
  {
   "cell_type": "code",
   "execution_count": 10,
   "id": "5256ea36",
   "metadata": {},
   "outputs": [
    {
     "name": "stdout",
     "output_type": "stream",
     "text": [
      "Enter the Array: 1,4,5,6\n",
      "Array (1, 4, 5, 6) is Monotonic\n",
      "Enter the Array: 11,12,45,12,30\n",
      "Array (11, 12, 45, 12, 30) is Not Monotonic\n"
     ]
    }
   ],
   "source": [
    "# 5. Write a Python Program to check if given array is Monotonic?\n",
    "def checkMonotonic():\n",
    "    in_arr = eval(input(\"Enter the Array: \"))\n",
    "    if(all(in_arr[i]<=in_arr[i+1] for i in range(len(in_arr)-1)) or all(in_arr[i]>=in_arr[i+1] for i in range(len(in_arr)-1))):\n",
    "        print(f'Array {in_arr} is Monotonic')\n",
    "    else:\n",
    "        print(f'Array {in_arr} is Not Monotonic')\n",
    "\n",
    "checkMonotonic()\n",
    "checkMonotonic()"
   ]
  },
  {
   "cell_type": "code",
   "execution_count": null,
   "id": "bccb2e65",
   "metadata": {},
   "outputs": [],
   "source": []
  }
 ],
 "metadata": {
  "kernelspec": {
   "display_name": "Python 3 (ipykernel)",
   "language": "python",
   "name": "python3"
  },
  "language_info": {
   "codemirror_mode": {
    "name": "ipython",
    "version": 3
   },
   "file_extension": ".py",
   "mimetype": "text/x-python",
   "name": "python",
   "nbconvert_exporter": "python",
   "pygments_lexer": "ipython3",
   "version": "3.9.12"
  }
 },
 "nbformat": 4,
 "nbformat_minor": 5
}
