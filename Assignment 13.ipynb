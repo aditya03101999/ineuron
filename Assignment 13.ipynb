{
 "cells": [
  {
   "cell_type": "code",
   "execution_count": 1,
   "id": "f339588b",
   "metadata": {},
   "outputs": [],
   "source": [
    "# 1. What advantages do Excel spreadsheets have over CSV spreadsheets?\n",
    "#The Advantages of Excel over CSV are:\n",
    "#Excel (XLS and XLSX) file formats are better for storing and analysing complex data.\n",
    "#An Excel not only stores data but can also do operations on the data using macros, formulas etc\n",
    "#CSV files are plain-text files, Does not contain formatting, formulas, macros, etc. It is also known as flat files"
   ]
  },
  {
   "cell_type": "code",
   "execution_count": 2,
   "id": "a6ef2a69",
   "metadata": {},
   "outputs": [],
   "source": [
    "#2 What do you pass to csv.reader() and csv.writer() to create reader and writer objects?\n",
    "#import csv\n",
    "#with open('text.csv','r') as file:\n",
    "#    csv_file = csv.reader(file,delimiter=',')\n",
    "#    for i in csv_file:\n",
    "#        print(i)\n"
   ]
  },
  {
   "cell_type": "code",
   "execution_count": 3,
   "id": "5ebd6ffb",
   "metadata": {},
   "outputs": [],
   "source": [
    "#3 What modes do File objects for reader and writer objects need to be opened in?\n",
    "# For reader objects the file objects needed to be opened in read mode mode='r' whereas for writer objects the file objects needed to be opened in write mode mode='w'"
   ]
  },
  {
   "cell_type": "code",
   "execution_count": 4,
   "id": "fc3b0566",
   "metadata": {},
   "outputs": [],
   "source": [
    "#4 What method takes a list argument and writes it to a CSV file?\n",
    "# csv.writer class provides two methods for writing to CSV. They are writerow() and writerows(). writerow() method writes a single row at a time. Whereas writerows() method is used to write multiple rows at a time."
   ]
  },
  {
   "cell_type": "code",
   "execution_count": 5,
   "id": "3abb39fe",
   "metadata": {},
   "outputs": [],
   "source": [
    "#5  What do the keyword arguments delimiter and line terminator do?\n",
    "# Lets take the example of a csv file:\n",
    "#First Name, Last Name, Age\n",
    "#adi, neha, 24\n",
    "#neha, kinshu, 21\n",
    "#Here ',' is Delimiter. We can use any Character as per our needs if required. Similarly Line Terminator comes at end of line by default it is newline and can be changed accourding to Requirement."
   ]
  },
  {
   "cell_type": "code",
   "execution_count": 6,
   "id": "b2bdcfb6",
   "metadata": {},
   "outputs": [],
   "source": [
    "#6 What function takes a string of JSON data and returns a Python data structure?\n",
    "# loads() method takes a string of JSON data and returns a Python data structure"
   ]
  },
  {
   "cell_type": "code",
   "execution_count": 7,
   "id": "4f359401",
   "metadata": {},
   "outputs": [],
   "source": [
    "#7 What function takes a Python data structure and returns a string of JSON data?\n",
    "# dumps() method takes a python data structure and returns a string of JSON data."
   ]
  },
  {
   "cell_type": "code",
   "execution_count": null,
   "id": "e132b9f7",
   "metadata": {},
   "outputs": [],
   "source": []
  }
 ],
 "metadata": {
  "kernelspec": {
   "display_name": "Python 3 (ipykernel)",
   "language": "python",
   "name": "python3"
  },
  "language_info": {
   "codemirror_mode": {
    "name": "ipython",
    "version": 3
   },
   "file_extension": ".py",
   "mimetype": "text/x-python",
   "name": "python",
   "nbconvert_exporter": "python",
   "pygments_lexer": "ipython3",
   "version": "3.9.12"
  }
 },
 "nbformat": 4,
 "nbformat_minor": 5
}
