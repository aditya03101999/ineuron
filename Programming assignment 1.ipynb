{
 "cells": [
  {
   "cell_type": "code",
   "execution_count": 2,
   "id": "a4db2d7d",
   "metadata": {},
   "outputs": [
    {
     "name": "stdout",
     "output_type": "stream",
     "text": [
      "Hello Python\n"
     ]
    }
   ],
   "source": [
    "#1. Write a Python program to print \"Hello Python\" ?\n",
    "print('Hello Python')"
   ]
  },
  {
   "cell_type": "code",
   "execution_count": 11,
   "id": "2fe72d24",
   "metadata": {},
   "outputs": [
    {
     "name": "stdout",
     "output_type": "stream",
     "text": [
      "12\n",
      "6\n",
      "division\n",
      "division 2.0\n"
     ]
    }
   ],
   "source": [
    "#2. Write a Python program to do arithmetic operations addition and division ?\n",
    "First_number = int(input())\n",
    "Second_number = int(input())\n",
    "operation_type = str(input())\n",
    "if operation_type == \"addition\":\n",
    "    result = First_number + Second_number\n",
    "    print('addition is',result)\n",
    "elif operation_type == \"division\":\n",
    "    result = First_number/Second_number\n",
    "    print(\"division\",result)\n",
    "else:\n",
    "    print('Enter correct operation type')\n",
    " "
   ]
  },
  {
   "cell_type": "code",
   "execution_count": 13,
   "id": "8da5e288",
   "metadata": {},
   "outputs": [
    {
     "data": {
      "text/plain": [
       "36.0"
      ]
     },
     "execution_count": 13,
     "metadata": {},
     "output_type": "execute_result"
    }
   ],
   "source": [
    "#3 Write a Python program to find the area of a triangle?\n",
    "def area(height,base):\n",
    "    result = height*base*0.5\n",
    "    return result\n",
    "area(12,6)"
   ]
  },
  {
   "cell_type": "code",
   "execution_count": 19,
   "id": "c249477a",
   "metadata": {},
   "outputs": [
    {
     "name": "stdout",
     "output_type": "stream",
     "text": [
      "34\n",
      "67\n",
      "67 and 34 are new valuse of x and y respectively\n"
     ]
    }
   ],
   "source": [
    "#4 Write a Python program to swap two variables?\n",
    "def swap():\n",
    "    x = input()\n",
    "    y = input()\n",
    "    z=x\n",
    "    x=y\n",
    "    y=z\n",
    "    print(\"{} and {} are new valuse of x and y respectively\".format(x,y))\n",
    "swap()    "
   ]
  },
  {
   "cell_type": "code",
   "execution_count": 20,
   "id": "6561ebea",
   "metadata": {},
   "outputs": [
    {
     "data": {
      "text/plain": [
       "30"
      ]
     },
     "execution_count": 20,
     "metadata": {},
     "output_type": "execute_result"
    }
   ],
   "source": [
    "# 5 Write a Python program to generate a random number?\n",
    "import random\n",
    "def random_number(start=0,end=100):\n",
    "    number = random.randint(start,end)\n",
    "    return number\n",
    "random_number()    "
   ]
  },
  {
   "cell_type": "code",
   "execution_count": null,
   "id": "3670b232",
   "metadata": {},
   "outputs": [],
   "source": []
  }
 ],
 "metadata": {
  "kernelspec": {
   "display_name": "Python 3 (ipykernel)",
   "language": "python",
   "name": "python3"
  },
  "language_info": {
   "codemirror_mode": {
    "name": "ipython",
    "version": 3
   },
   "file_extension": ".py",
   "mimetype": "text/x-python",
   "name": "python",
   "nbconvert_exporter": "python",
   "pygments_lexer": "ipython3",
   "version": "3.9.12"
  }
 },
 "nbformat": 4,
 "nbformat_minor": 5
}
