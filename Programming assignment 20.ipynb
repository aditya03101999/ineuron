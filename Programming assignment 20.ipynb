{
 "cells": [
  {
   "cell_type": "markdown",
   "id": "b2937794",
   "metadata": {},
   "source": [
    "### Create a function that takes a list of strings and integers, and filters out the list so that it returns a list of integers only."
   ]
  },
  {
   "cell_type": "code",
   "execution_count": 1,
   "id": "37038752",
   "metadata": {},
   "outputs": [],
   "source": [
    "\n",
    "def filter_list(l):\n",
    "    new = []\n",
    "    for i in l:\n",
    "        if type(i) == int:\n",
    "            new.append(i)\n",
    "    return new        "
   ]
  },
  {
   "cell_type": "code",
   "execution_count": 2,
   "id": "e4b19dc0",
   "metadata": {},
   "outputs": [
    {
     "data": {
      "text/plain": [
       "[1, 2, 3, 4]"
      ]
     },
     "execution_count": 2,
     "metadata": {},
     "output_type": "execute_result"
    }
   ],
   "source": [
    "filter_list([1, 2, 3, 'a', 'b', 4])"
   ]
  },
  {
   "cell_type": "markdown",
   "id": "5c276213",
   "metadata": {},
   "source": [
    "### Given a list of numbers, create a function which returns the list but with each element&#39;s\n",
    "### index in the list added to itself. This means you add 0 to the number at index 0, add 1 to the\n",
    "### number at index 1, etc..."
   ]
  },
  {
   "cell_type": "code",
   "execution_count": 5,
   "id": "e4f22fb5",
   "metadata": {},
   "outputs": [],
   "source": [
    "def add_indexes(l):\n",
    "    new = []\n",
    "    for index,item in enumerate(l):\n",
    "        new.append(index + item)\n",
    "    return new    "
   ]
  },
  {
   "cell_type": "code",
   "execution_count": 6,
   "id": "f3cad98c",
   "metadata": {},
   "outputs": [
    {
     "data": {
      "text/plain": [
       "[1, 3, 5, 7, 9]"
      ]
     },
     "execution_count": 6,
     "metadata": {},
     "output_type": "execute_result"
    }
   ],
   "source": [
    "add_indexes([1,2,3,4,5])"
   ]
  },
  {
   "cell_type": "markdown",
   "id": "042d537a",
   "metadata": {},
   "source": [
    "### Create a function that takes the height and radius of a cone as arguments and returns the\n",
    "### volume of the cone rounded to the nearest hundredth. See the resources tab for the formula."
   ]
  },
  {
   "cell_type": "code",
   "execution_count": 11,
   "id": "03be1f1b",
   "metadata": {},
   "outputs": [],
   "source": [
    "def cone_volume(radius,height):\n",
    "    area = (1/3) * (radius**2) * height * (22/7)\n",
    "    return round(area,2)"
   ]
  },
  {
   "cell_type": "code",
   "execution_count": 12,
   "id": "706600ab",
   "metadata": {},
   "outputs": [
    {
     "data": {
      "text/plain": [
       "12.57"
      ]
     },
     "execution_count": 12,
     "metadata": {},
     "output_type": "execute_result"
    }
   ],
   "source": [
    "cone_volume(2,3)"
   ]
  },
  {
   "cell_type": "markdown",
   "id": "1ff0e1bf",
   "metadata": {},
   "source": [
    "### Write a function that gives the number of dots with its corresponding triangle number of the sequence."
   ]
  },
  {
   "cell_type": "code",
   "execution_count": 17,
   "id": "3dabe83c",
   "metadata": {},
   "outputs": [],
   "source": [
    "def triangle(n):\n",
    "    new = []\n",
    "    for i in range(n):\n",
    "        if i==0:\n",
    "            new.append(1)\n",
    "        elif i==1:\n",
    "            new.append(new[0]+2)\n",
    "        elif i>1:\n",
    "            new.append(new[i-1] + (new[i-1] - new[i-2] + 1))\n",
    "    return new[n-1]       \n",
    "   \n"
   ]
  },
  {
   "cell_type": "code",
   "execution_count": 19,
   "id": "67a27a05",
   "metadata": {},
   "outputs": [
    {
     "data": {
      "text/plain": [
       "23220"
      ]
     },
     "execution_count": 19,
     "metadata": {},
     "output_type": "execute_result"
    }
   ],
   "source": [
    "triangle(215)"
   ]
  },
  {
   "cell_type": "code",
   "execution_count": 38,
   "id": "e8b006a9",
   "metadata": {},
   "outputs": [],
   "source": [
    "def missing_num(l):\n",
    "    a = sorted(l)\n",
    "    for index,item in enumerate(range(1,11)):\n",
    "        if a[index] != item :\n",
    "            missing = item\n",
    "            break\n",
    "    return missing        \n",
    "            \n",
    "        \n",
    "        "
   ]
  },
  {
   "cell_type": "code",
   "execution_count": 39,
   "id": "8dd04f09",
   "metadata": {},
   "outputs": [
    {
     "data": {
      "text/plain": [
       "5"
      ]
     },
     "execution_count": 39,
     "metadata": {},
     "output_type": "execute_result"
    }
   ],
   "source": [
    "missing_num([1,2,3,4,6,7,8,9,10])"
   ]
  },
  {
   "cell_type": "code",
   "execution_count": null,
   "id": "01481347",
   "metadata": {},
   "outputs": [],
   "source": []
  }
 ],
 "metadata": {
  "kernelspec": {
   "display_name": "Python 3 (ipykernel)",
   "language": "python",
   "name": "python3"
  },
  "language_info": {
   "codemirror_mode": {
    "name": "ipython",
    "version": 3
   },
   "file_extension": ".py",
   "mimetype": "text/x-python",
   "name": "python",
   "nbconvert_exporter": "python",
   "pygments_lexer": "ipython3",
   "version": "3.9.12"
  }
 },
 "nbformat": 4,
 "nbformat_minor": 5
}
